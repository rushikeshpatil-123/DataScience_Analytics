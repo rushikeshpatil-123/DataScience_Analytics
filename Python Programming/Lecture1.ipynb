{
 "cells": [
  {
   "cell_type": "code",
   "execution_count": 4,
   "id": "c50b7d61",
   "metadata": {},
   "outputs": [
    {
     "name": "stdout",
     "output_type": "stream",
     "text": [
      "rica Nic\n",
      "\n"
     ]
    }
   ],
   "source": [
    "str =  \" America Nice\"\n",
    "print(str[-9:-1: ])\n",
    "\n",
    "str = \"Gajanan\"\n",
    "print(str[-1:6:-1])\n"
   ]
  },
  {
   "cell_type": "code",
   "execution_count": 5,
   "id": "9f84661c",
   "metadata": {},
   "outputs": [
    {
     "name": "stdout",
     "output_type": "stream",
     "text": [
      "I am True\n"
     ]
    }
   ],
   "source": [
    "# If Else statement:\n",
    "\n",
    "if True:\n",
    "    print(\"I am True\")\n",
    "    \n",
    "if False:\n",
    "    ptint(\"I am False\")"
   ]
  },
  {
   "cell_type": "code",
   "execution_count": 6,
   "id": "d43305f1",
   "metadata": {},
   "outputs": [
    {
     "name": "stdout",
     "output_type": "stream",
     "text": [
      "The Number is satisfy Criteria\n"
     ]
    }
   ],
   "source": [
    "'''\n",
    "Logic:\n",
    "if <Condition>:\n",
    "    print(\"Output1\")\n",
    "else:\n",
    "    print(\"Output2\")\n",
    "    \n",
    "    \n",
    "'''\n",
    "num = 100\n",
    "\n",
    "if num >= 100:\n",
    "    print('The Number is satisfy Criteria')\n",
    "else:\n",
    "    print('Not satisfy the Criteria')\n",
    "    \n",
    "     "
   ]
  },
  {
   "cell_type": "code",
   "execution_count": 1,
   "id": "c1de6ec0",
   "metadata": {},
   "outputs": [
    {
     "name": "stdout",
     "output_type": "stream",
     "text": [
      "The Number is 2\n"
     ]
    }
   ],
   "source": [
    "# Guessing the Number Game \n",
    "'''\n",
    "Logic:\n",
    "step1: Enter the Number\n",
    "step2: Write Logic Code To guess the Correct Number\n",
    "step3: Output\n",
    "\n",
    "\n",
    "'''\n",
    "\n",
    "\n",
    "number = float(input('Enter the Number Betweeen 1 to 3:'))\n",
    "\n",
    "if number == 1:\n",
    "    print('The Number is 1')\n",
    "    \n",
    "if number == 2:\n",
    "        print('The Number is 2')\n",
    "        \n",
    "if number == 3:\n",
    "        print('The Number is 3')\n",
    "         "
   ]
  },
  {
   "cell_type": "code",
   "execution_count": null,
   "id": "48732388",
   "metadata": {},
   "outputs": [],
   "source": [
    "number = float(input())\n",
    "if number > 2:\n",
    "    print('The Enter Number is Higher Value')\n",
    "if number < 2:\n",
    "    print('The Enter Number is Lower Value')\n",
    "else:\n",
    "    print('The number is 2')"
   ]
  },
  {
   "cell_type": "code",
   "execution_count": null,
   "id": "e435b8a1",
   "metadata": {},
   "outputs": [],
   "source": [
    "if True:\n",
    "    if True:\n",
    "        if True:\n",
    "            print('Very Good')"
   ]
  },
  {
   "cell_type": "code",
   "execution_count": null,
   "id": "d4c647f0",
   "metadata": {},
   "outputs": [],
   "source": [
    "# Example: To Check whether the given string is palindrom or Not \n",
    "\n",
    "'''\n",
    "step1: Ask user to enter the string \n",
    "step2: reverse the string \n",
    "step3: use if else logic to print the output\n",
    "'''\n",
    "\n",
    "\n",
    "\n",
    "\n",
    "\n",
    "\n",
    "text1 = input('Enter the string: ')   # Assingment Operator\n",
    "text2 = text1[::-1]\n",
    "\n",
    "if text1 == text2:         # This is Comparison Operator\n",
    "    print('The given String is palindrom')\n",
    "else:\n",
    "    print('not a palindrom')    \n"
   ]
  },
  {
   "cell_type": "code",
   "execution_count": null,
   "id": "834145f7",
   "metadata": {},
   "outputs": [],
   "source": [
    "# Simple program using only multiple if statements\n",
    "\n",
    "score = int(input(\"Enter your score (out of 100): \"))\n",
    "\n",
    "if score >= 90:\n",
    "    print(\"Excellent\")\n",
    "\n",
    "if score >= 75 and score < 90:\n",
    "    print(\"Good\")\n",
    "\n",
    "if score < 75:\n",
    "    print(\"Satisfied\")\n"
   ]
  },
  {
   "cell_type": "code",
   "execution_count": null,
   "id": "3db16ab5",
   "metadata": {},
   "outputs": [],
   "source": [
    "# Program using only multiple if statements\n",
    "\n",
    "score = int(input(\"Enter your score (out of 100): \"))\n",
    "\n",
    "if score >= 90:\n",
    "    print(\"Excellent\")\n",
    "\n",
    "if score >= 75 and score < 90:\n",
    "    print(\"Good\")\n",
    "\n",
    "if score < 75:\n",
    "    print(\"Satisfied\")\n"
   ]
  },
  {
   "cell_type": "code",
   "execution_count": null,
   "id": "d21f5fa7",
   "metadata": {},
   "outputs": [
    {
     "name": "stdout",
     "output_type": "stream",
     "text": [
      "The Volume of Cylinder is 42.418350000000004  mm^3\n"
     ]
    }
   ],
   "source": [
    "#Example : Write a Program to Print Volume of Cylinder\n",
    "'''  \n",
    "Volume = Area * Height\n",
    "step1: Ask user to enter the Diameter of Cylinder\n",
    "step2: Ask user to enter the Height of Cylinder\n",
    "step3: Volume = Area * Height\n",
    "step4: print the desired output\n",
    "'''\n",
    "PI = 3.1421\n",
    "Diameter= float(input(\"Enter the Diameter of Cylinder:\"))\n",
    "Height= float(input(\"Enter the Height of Cylinder:\"))\n",
    "\n",
    "Volume =(PI/4)*(Diameter**2)* Height\n",
    "\n",
    "print(f'The Volume of Cylinder is {Volume}  mm^3')"
   ]
  },
  {
   "cell_type": "code",
   "execution_count": null,
   "id": "faf4b450",
   "metadata": {},
   "outputs": [
    {
     "name": "stdout",
     "output_type": "stream",
     "text": [
      "Bright\n"
     ]
    }
   ],
   "source": [
    "Marks = float(input(\"Enter the Marks:\"))\n",
    "if Marks>=90:\n",
    "    print('Excellent')\n",
    "elif Marks < 90 and Marks > 60:\n",
    "    print(\"Bright\")\n",
    "else:\n",
    "    print(\"Average\")"
   ]
  },
  {
   "cell_type": "code",
   "execution_count": null,
   "id": "a59f59b6",
   "metadata": {},
   "outputs": [
    {
     "name": "stdout",
     "output_type": "stream",
     "text": [
      "0\n",
      "1\n",
      "2\n",
      "3\n",
      "4\n",
      "5\n",
      "6\n",
      "7\n",
      "8\n",
      "9\n"
     ]
    }
   ],
   "source": [
    "#for loop\n",
    "#range(start,stop,step)\n",
    "for i in range(0,10):\n",
    "    print(i)"
   ]
  },
  {
   "cell_type": "code",
   "execution_count": null,
   "id": "63274dec",
   "metadata": {},
   "outputs": [
    {
     "name": "stdout",
     "output_type": "stream",
     "text": [
      "0\n",
      "2\n",
      "4\n",
      "6\n",
      "8\n"
     ]
    }
   ],
   "source": [
    "for i in range(0,10,2):\n",
    "    print(i)"
   ]
  },
  {
   "cell_type": "code",
   "execution_count": null,
   "id": "408d24a9",
   "metadata": {},
   "outputs": [
    {
     "name": "stdout",
     "output_type": "stream",
     "text": [
      "0 1 2 3 4 5 6 7 8 9 "
     ]
    }
   ],
   "source": [
    "for i in range(0,10):\n",
    "    print(i,end=' '\n",
    ")"
   ]
  },
  {
   "cell_type": "code",
   "execution_count": null,
   "id": "6fd009f5",
   "metadata": {},
   "outputs": [
    {
     "name": "stdout",
     "output_type": "stream",
     "text": [
      "\n",
      "*\n",
      "**\n",
      "***\n",
      "****\n",
      "*****\n",
      "******\n",
      "*******\n",
      "********\n",
      "*********\n"
     ]
    }
   ],
   "source": [
    "for i in range(10):\n",
    "    print('*'*i)\n",
    "    "
   ]
  },
  {
   "cell_type": "code",
   "execution_count": null,
   "id": "f7a4705a",
   "metadata": {},
   "outputs": [
    {
     "name": "stdout",
     "output_type": "stream",
     "text": [
      "1\n",
      "1\n",
      "1\n",
      "1\n",
      "1\n",
      "1\n",
      "1\n"
     ]
    }
   ],
   "source": [
    "for i in range(0,10):\n",
    "    print(1)\n",
    "    if i == 6:\n",
    "     break"
   ]
  },
  {
   "cell_type": "code",
   "execution_count": null,
   "id": "0d7cc371",
   "metadata": {},
   "outputs": [
    {
     "name": "stdout",
     "output_type": "stream",
     "text": [
      "1\n",
      "1\n",
      "1\n",
      "1\n",
      "1\n",
      "1\n",
      "1\n",
      "1\n",
      "1\n",
      "1\n"
     ]
    }
   ],
   "source": [
    "for i in range(0,10):\n",
    "    print(1)\n",
    "    if i == 6:\n",
    "     continue"
   ]
  },
  {
   "cell_type": "code",
   "execution_count": null,
   "id": "3baf0f26",
   "metadata": {},
   "outputs": [
    {
     "name": "stdout",
     "output_type": "stream",
     "text": [
      "1\n",
      "1\n",
      "1\n",
      "1\n",
      "1\n",
      "1\n",
      "1\n",
      "1\n",
      "1\n",
      "1\n"
     ]
    }
   ],
   "source": [
    "for i in range(0,10):\n",
    "    print(1)\n",
    "    if i == 6:\n",
    "        pass"
   ]
  },
  {
   "cell_type": "code",
   "execution_count": null,
   "id": "8c243e36",
   "metadata": {},
   "outputs": [],
   "source": [
    "#Example\n",
    "#Palindrom function definition\n",
    "def Palindrom():\n",
    "    text1 = input('Enter the string:')\n",
    "    text2 = text1[::-1]\n",
    "    if text1 == text2:\n",
    "       print(\"The given string is a Palindrome\") \n",
    "    else :\n",
    "        print(\"The given is not a Palindrom\")\n",
    "       \n",
    "    Palindrom() #Function Calling\n",
    "    "
   ]
  },
  {
   "cell_type": "code",
   "execution_count": null,
   "id": "0b58f670",
   "metadata": {},
   "outputs": [
    {
     "name": "stdout",
     "output_type": "stream",
     "text": [
      "The Answer is 300\n"
     ]
    }
   ],
   "source": [
    "# Example\n",
    "\n",
    "def Compute(num1,num2):\n",
    "    num3 = num1 + num2  \n",
    "    return num3 \n",
    "\n",
    "ans = Compute(100,200) # Function Calling\n",
    "\n",
    "print(f'The Answer is {ans}')"
   ]
  },
  {
   "cell_type": "code",
   "execution_count": null,
   "id": "4cbd9fad",
   "metadata": {},
   "outputs": [
    {
     "name": "stdout",
     "output_type": "stream",
     "text": [
      "30\n",
      "-10\n",
      "200\n",
      "0.5\n",
      "10\n",
      "0\n",
      "100000000000000000000\n",
      "hello world\n",
      "my name is rushikesh patil\n",
      "my class is TYBSC(COMP)\n"
     ]
    }
   ],
   "source": [
    "# Installing python and setting up enviroment. Simple statements like printing the names (\"Hello World\") numbers, mathematical calculations, etc.\n",
    "a=10\n",
    "b=20\n",
    "print(a+b)\n",
    "print(a-b)\n",
    "print(a*b)\n",
    "print(a/b)\n",
    "print(a%b)\n",
    "print(a//b)\n",
    "print(a**b)\n",
    "print(\"hello world\")\n",
    "print(\"my name is rushikesh patil\")\n",
    "print(\"my class is TYBSC(COMP)\")\n"
   ]
  },
  {
   "cell_type": "code",
   "execution_count": null,
   "id": "3a8f63de",
   "metadata": {},
   "outputs": [
    {
     "name": "stdout",
     "output_type": "stream",
     "text": [
      "prime numbers are:\n",
      "3\n",
      "5\n",
      "5\n",
      "5\n",
      "7\n",
      "7\n",
      "7\n",
      "7\n",
      "7\n",
      "9\n",
      "11\n",
      "11\n",
      "11\n",
      "11\n",
      "11\n",
      "11\n",
      "11\n",
      "11\n",
      "11\n",
      "13\n",
      "13\n",
      "13\n",
      "13\n",
      "13\n",
      "13\n",
      "13\n",
      "13\n",
      "13\n",
      "13\n",
      "13\n"
     ]
    }
   ],
   "source": [
    "# write a program to find all prime numbers within a given range.\n",
    "start = int(input(\"Enter start:\"))\n",
    "end = int(input(\"Enter end:\"))\n",
    "print(\"prime numbers are:\")\n",
    "for num in range(start, end +1):\n",
    "    if num>1:\n",
    "        for i in range(2,num):\n",
    "            if num % i==0:\n",
    "                break\n",
    "            else:\n",
    "                print(num)"
   ]
  },
  {
   "cell_type": "code",
   "execution_count": null,
   "id": "26a8002f",
   "metadata": {},
   "outputs": [
    {
     "name": "stdout",
     "output_type": "stream",
     "text": [
      "Fibonacci Series:\n",
      "0112358132134558914423337761098715972584418167651094617711286574636875025121393196418317811514229832040134626921783093524578570288792274651493035224157817390881696324598610233415516558014126791429643349443770140873311349031701836311903297121507348075269767778742049125862690252036501107432951280099533162911738626757127213958386244522585143371736543529616259128672987995672202604115480087559202504730781961405273953788165574703198421061020985772317167680177565277778900352884494557021285372723460248141117669030460994190392490709135308061521170129498454011879264806515533049393130496954492865721114850779780503416454622906707552793970088475789443943237914641447233402467622123416728348467685378890623731439066130579072161159199194853094755497160500643816367088259695496911122585420196140727489673679891637638612258110008777836610193117799794160047141892880067194370816120466004661037553030975401138047463464291220016041512187673819740274219868223167319404346349900999055168070885485832307283621143489848422977135301852344706746049218922995834555169026"
     ]
    }
   ],
   "source": [
    "# write a program to print \"n\" terms of Fibonacci Series using Iteration\n",
    "n = int(input(\"Enter number of terms:\"))\n",
    "a,b = 0,1 # first two terms\n",
    "print(\"Fibonacci Series:\")\n",
    "for i in range(n):\n",
    "    print(a, end=\"\")\n",
    "    a,b = b,a+b # update values"
   ]
  },
  {
   "cell_type": "code",
   "execution_count": null,
   "id": "6072029e",
   "metadata": {},
   "outputs": [
    {
     "name": "stdout",
     "output_type": "stream",
     "text": [
      "Uppercase: HELLO, PYTHON PROGRAMMING!\n",
      "Lowercase: hello, python programming!\n",
      "Replace 'python' with 'Java:' hello, python programming!\n",
      "index of 'programming': -1\n",
      "split by space: ['hello,', 'python', 'programming!']\n"
     ]
    }
   ],
   "source": [
    "# Program related to string manipulation\n",
    "text = \"hello, python programming!\"\n",
    "# convert to uppercase\n",
    "print(\"Uppercase:\", text.upper())\n",
    "#convert to lowercase\n",
    "print(\"Lowercase:\", text.lower())\n",
    "#replace a substring\n",
    "print(\"Replace 'python' with 'Java:'\",text.replace(\"Python\",\"java\"))\n",
    "#find a substring\n",
    "print(\"index of 'programming':\", text.find(\"Programming\"))\n",
    "#split the string\n",
    "print(\"split by space:\", text.split())\n",
    "#Strip whitespace(not needed here, but for demonstration)\n",
    "whitespace_text = \"Hello, World!\"\n"
   ]
  },
  {
   "cell_type": "code",
   "execution_count": null,
   "id": "111de4dd",
   "metadata": {},
   "outputs": [
    {
     "name": "stdout",
     "output_type": "stream",
     "text": [
      "square of 5: 25\n",
      "Squares: [1, 4, 9, 16, 25]\n",
      "Even numbers: [2, 4]\n",
      "Sum of numbers: 15\n",
      "Triple each numbe: [3, 6, 9, 12, 15]\n"
     ]
    }
   ],
   "source": [
    "#Write a program that demonstrate concept of functional programming\n",
    "from functools import reduce\n",
    "#1.Using lambda(anonymous function)\n",
    "square = lambda x: x* x\n",
    "print(\"square of 5:\", square(5))\n",
    "#2. map() applies fuction to each element\n",
    "numbers = [1,2,3,4,5]\n",
    "squares= list(map(lambda x:x*x, numbers))\n",
    "print(\"Squares:\", squares)\n",
    "#3. filter() filters elements based on condition\n",
    "evens = list(filter(lambda x:x %2==0, numbers))\n",
    "print(\"Even numbers:\", evens)\n",
    "#4. reduce() reduces list to single value\n",
    "sum_of_numbers = reduce(lambda a, b: a+b, numbers)\n",
    "print(\"Sum of numbers:\",sum_of_numbers)\n",
    "#5. Higher-order function (function arguments)\n",
    "def apply_function(func, values):\n",
    "    return [func(x) for x in values]\n",
    "result = apply_function(lambda x: x*3, numbers)\n",
    "print(\"Triple each numbe:\",result)"
   ]
  },
  {
   "cell_type": "code",
   "execution_count": null,
   "id": "2ff18896",
   "metadata": {},
   "outputs": [
    {
     "name": "stdout",
     "output_type": "stream",
     "text": [
      "Orignal list: ['apple', 'banana', 'cherry']\n",
      "first element: apple\n",
      "last element: cherry\n",
      "After append: ['apple', 'banana', 'cherry', 'orange']\n",
      "after remove: ['apple', 'cherry', 'orange']\n",
      "popped element: orange\n",
      "after pop: ['apple', 'cherry']\n",
      "Length of list: 2\n",
      "Sorted list: ['apple', 'cherry']\n",
      "Reversed list: ['cherry', 'apple']\n",
      "index of'apple': 0\n",
      "First two elements: ['apple', 'cherry']\n",
      "Last two elements: ['apple', 'cherry']\n",
      "Copied list: ['apple', 'cherry']\n",
      "After clear: []\n"
     ]
    }
   ],
   "source": [
    "# write a program to demonstrate the use of list &  realated fuctions.\n",
    "#creating list\n",
    "fruits = [\"apple\", \"banana\", \"cherry\"]\n",
    "print(\"Orignal list:\",fruits)\n",
    "#Accesing elements\n",
    "print(\"first element:\", fruits[0])\n",
    "print(\"last element:\", fruits[-1])\n",
    "#adding elements\n",
    "fruits.append(\"orange\")    #at the end \n",
    "print(\"After append:\", fruits)\n",
    "#Removing elements\n",
    "fruits.remove (\"banana\") # remove by value\n",
    "print(\"after remove:\",fruits)\n",
    "popped= fruits.pop() # remove last element\n",
    "print(\"popped element:\",popped)\n",
    "print(\"after pop:\", fruits)\n",
    "#List fuctions\n",
    "print(\"Length of list:\", len(fruits))\n",
    "print(\"Sorted list:\",sorted(fruits))\n",
    "print(\"Reversed list:\", list(reversed(fruits)))\n",
    "print(\"index of'apple':\",fruits.index(\"apple\"))\n",
    "#slicing\n",
    "print(\"First two elements:\", fruits[:2])\n",
    "print(\"Last two elements:\", fruits[-2:])\n",
    "#Copying list\n",
    "copy_list = fruits.copy()\n",
    "print(\"Copied list:\", copy_list)\n",
    "# Clearing lsit\n",
    "fruits.clear()\n",
    "print(\"After clear:\", fruits)\n"
   ]
  },
  {
   "cell_type": "code",
   "execution_count": null,
   "id": "d816e22c",
   "metadata": {},
   "outputs": [
    {
     "name": "stdout",
     "output_type": "stream",
     "text": [
      "Orignal Dictonary: {'name': 'python', 'age': 30, 'course': 'Computer Science'}\n",
      "Name: python\n",
      "Age: python\n",
      "Age: 30\n",
      "After adding/updating: {'name': 'python', 'age': 21, 'course': 'Computer Science', 'grade': 'A'}\n",
      "after pop: {'name': 'python', 'age': 21, 'grade': 'A'}\n",
      "Removed item: ('grade', 'A')\n",
      "After popitem: {'name': 'python', 'age': 21}\n",
      "Keys: dict_keys(['name', 'age'])\n",
      "values: dict_values(['python', 21])\n",
      "items: dict_items([('name', 'python'), ('age', 21)])\n",
      "copied dictionary: {'name': 'python', 'age': 21}\n"
     ]
    }
   ],
   "source": [
    "#write a program to demonstrate the use of list & related functions\n",
    "#creating a dictionary\n",
    "student = {\"name\": \"python\",\"age\":30,\"course\":\"Computer Science\"}\n",
    "print(\"Orignal Dictonary:\", student)\n",
    "#Accessing elements\n",
    "print(\"Name:\", student[\"name\"])\n",
    "print(\"Age:\", student[\"name\"])\n",
    "print(\"Age:\",student.get(\"age\"))\n",
    "#adding/updating elements\n",
    "student[\"grade\"]=\"A\"  # Add new key-value pair\n",
    "student[\"age\"] = 21   # update existing key\n",
    "print(\"After adding/updating:\", student)\n",
    "#Removing elements\n",
    "student.pop(\"course\")  #remove by key\n",
    "print(\"after pop:\",student)\n",
    "removed_item = student.popitem() # remove last inserted item\n",
    "print(\"Removed item:\", removed_item)\n",
    "print(\"After popitem:\",student)\n",
    "#Dictionary fuctions\n",
    "print(\"Keys:\", student.keys())\n",
    "print(\"values:\",student.values())\n",
    "print(\"items:\", student.items())\n",
    "#copying dictionary \n",
    "copy_student = student.copy()\n",
    "print(\"copied dictionary:\", copy_student)\n"
   ]
  },
  {
   "cell_type": "code",
   "execution_count": null,
   "id": "58263d3d",
   "metadata": {},
   "outputs": [
    {
     "name": "stdout",
     "output_type": "stream",
     "text": [
      "Orignal Tuple: ('apple', 'banana', 'cherry', 'banana')\n",
      "First element: apple\n",
      "Last element: banana\n",
      "slicing(1 to 3): ('banana', 'cherry')\n",
      "Length of tuple: 4\n",
      "count of 'banana': 2\n",
      "Index of 'cherry': 2\n",
      "Repeated tuple: (4, 5, 4, 5, 4, 5)\n",
      "'apple' is in tuple\n",
      "Modified list: ['apple', 'banana', 'cherry', 'banana', 'orange']\n"
     ]
    }
   ],
   "source": [
    "# write a program demonstrate use of tuple\n",
    "# Creating a tuple\n",
    "fruits = (\"apple\",\"banana\", \"cherry\",\"banana\")\n",
    "print(\"Orignal Tuple:\", fruits)\n",
    "#Accessing elements\n",
    "print(\"First element:\", fruits[0])\n",
    "print(\"Last element:\", fruits[-1])\n",
    "print(\"slicing(1 to 3):\", fruits[1:3])\n",
    "#tuple opreations\n",
    "print(\"Length of tuple:\", len(fruits))\n",
    "print(\"count of 'banana':\", fruits.count(\"banana\"))\n",
    "print(\"Index of 'cherry':\",fruits.index(\"cherry\"))\n",
    "# tuple concatenation\n",
    "t1= (1,2,3)\n",
    "t2=(4,5)\n",
    "t3= t1+t2\n",
    "print(\"Repeated tuple:\", t2*3)\n",
    "#checking membership\n",
    "if \"apple\" in fruits:\n",
    "    print(\"'apple' is in tuple\")\n",
    "    #converting tuple to list (to modify)\n",
    "    fruit_list = list(fruits)\n",
    "    fruit_list = list(fruits)\n",
    "    fruit_list.append(\"orange\")\n",
    "    print(\"Modified list:\", fruit_list)"
   ]
  },
  {
   "cell_type": "code",
   "execution_count": 17,
   "id": "5c8efbbf",
   "metadata": {},
   "outputs": [
    {
     "data": {
      "text/plain": [
       "24.0"
      ]
     },
     "execution_count": 17,
     "metadata": {},
     "output_type": "execute_result"
    }
   ],
   "source": [
    "\n",
    "# fibbonaci series : 0 1 1 2 3 5 8 13.....\n",
    "# factorial series : 4! = 4*3*2*1= 24\n",
    "def factorial(n):\n",
    "    if n==0 or n==1:\n",
    "        return 1 \n",
    "    else:\n",
    "        return n * factorial(n-1)\n",
    "number = float(input(\"Enter the number:\"))   \n",
    "factorial(number)"
   ]
  },
  {
   "cell_type": "code",
   "execution_count": 23,
   "id": "de2be80c",
   "metadata": {},
   "outputs": [
    {
     "name": "stdout",
     "output_type": "stream",
     "text": [
      "Fibonacci Series:\n",
      "0112358132134558914423337761098715972584418167651094617711286574636875025121393196418317811514229832040134626921783093524578570288792274651493035224157817390881696324598610233415516558014126791429643349443770140873311349031701836311903297121507348075269767778742049125862690252036501107432951280099533162911738626757127213958386244522585143371736543529616259128672987995672202604115480087559202504730781961405273953788165574703198421061020985772317167680177565277778900352884494557021285372723460248141117669030460994190392490709135308061521170129498454011879264806515533049393130496954492865721114850779780503416454622906707552793970088475789443943237914641447233402467622123416728348467685378890623731439066130579072161159199194853094755497160500643816367088259695496911122585420196140727489673679891637638612258110008777836610193117799794160047141892880067194370816120466004661037553030975401138047463464291220016041512187673819740274219868223167319404346349900999055168070885485832307283621143489848422977135301852344706746049218922995834555169026"
     ]
    }
   ],
   "source": [
    "#fibbonaci series :\n",
    "n= int(input(\"enter the number of terms:\"))\n",
    "a,b = 0,1 # first two terms\n",
    "print(\"Fibonacci Series:\")\n",
    "for i in range(n):\n",
    "    print(a, end=\"\")\n",
    "    a,b = b,a+b # update values"
   ]
  },
  {
   "cell_type": "code",
   "execution_count": 9,
   "id": "c5bb254e",
   "metadata": {},
   "outputs": [
    {
     "name": "stdout",
     "output_type": "stream",
     "text": [
      "ello welcome to the\n",
      "Hlowloet h ol\n",
      ".gnimmar\n",
      "hsekihsuR\n"
     ]
    }
   ],
   "source": [
    "# Concept of Indexing and Slicing\n",
    "\n",
    "str = 'Hello welcome to the world of python programming.'\n",
    "\n",
    "'''\n",
    "Note:\n",
    "string indexing : string[start:stop:step]\n",
    "'''\n",
    "print(str[1:20:1])\n",
    "print(str[0:25:2])\n",
    "print(str[-1:-9:-1])\n",
    "str = 'Rushikesh'\n",
    "print(str[::-1])"
   ]
  },
  {
   "cell_type": "code",
   "execution_count": 5,
   "id": "54576ce4",
   "metadata": {},
   "outputs": [
    {
     "name": "stdout",
     "output_type": "stream",
     "text": [
      "[1, 2, 3, 100.2, 3.1421, (3+4j), 'Hello World', True, [1, 2, 3], 100]\n",
      "[0, 1, 2, 3, 100.2, 3.1421, (3+4j), 'Hello World', True, [1, 2, 3], 100]\n"
     ]
    }
   ],
   "source": [
    "# Data Structure of Python programming\n",
    "'''\n",
    "1. List\n",
    "2. Tuple\n",
    "3. Dictionary\n",
    "4. Sets\n",
    "'''\n",
    "# List\n",
    "\n",
    "a = [1,2,3,100.2000,3.1421, 3+4j,'Hello World',True,[1,2,3]]\n",
    "a.append(100)\n",
    "print(a)\n",
    "a.insert(0,0)\n",
    "print(a)\n"
   ]
  },
  {
   "cell_type": "code",
   "execution_count": 6,
   "id": "15a92959",
   "metadata": {},
   "outputs": [
    {
     "name": "stdout",
     "output_type": "stream",
     "text": [
      "[0, 1, 2, 3, 100.2, 3.1421, (3+4j), 'Hello World', True, [1, 2, 3]]\n"
     ]
    }
   ],
   "source": [
    "a.pop()\n",
    "print(a)"
   ]
  },
  {
   "cell_type": "code",
   "execution_count": 7,
   "id": "4c93ab20",
   "metadata": {},
   "outputs": [
    {
     "name": "stdout",
     "output_type": "stream",
     "text": [
      "[1, 2, 3, 100.2, 3.1421, (3+4j), 'Hello World', True, [1, 2, 3]]\n"
     ]
    }
   ],
   "source": [
    "a.remove(0)\n",
    "print(a)"
   ]
  },
  {
   "cell_type": "code",
   "execution_count": null,
   "id": "29bc2d34",
   "metadata": {},
   "outputs": [
    {
     "name": "stdout",
     "output_type": "stream",
     "text": [
      "2\n",
      "<class 'list'>\n"
     ]
    }
   ],
   "source": [
    "'''\n",
    "Any Function to defined inside a class called as Method\n",
    "Example: In a list a = [100,200,300]\n",
    "a.append(400)\n",
    "here, append() is fuction, but this function is defined inside a class list so it is called Method\n",
    "\n",
    "\n",
    "'''\n",
    "\n",
    "\n",
    "\n",
    "\n",
    "print(a.count(1))\n",
    "print(type(a))"
   ]
  },
  {
   "cell_type": "code",
   "execution_count": 9,
   "id": "1eb9b509",
   "metadata": {},
   "outputs": [
    {
     "name": "stdout",
     "output_type": "stream",
     "text": [
      "[1000, 2000, 3000, 5000, 6000]\n"
     ]
    }
   ],
   "source": [
    "lst = [1000,5000,6000,2000,3000]\n",
    "lst.sort()\n",
    "print(lst)"
   ]
  },
  {
   "cell_type": "code",
   "execution_count": 10,
   "id": "84616c07",
   "metadata": {},
   "outputs": [
    {
     "name": "stdout",
     "output_type": "stream",
     "text": [
      "[6000, 5000, 3000, 2000, 1000]\n"
     ]
    }
   ],
   "source": [
    "lst.reverse()\n",
    "print(lst)"
   ]
  },
  {
   "cell_type": "code",
   "execution_count": null,
   "id": "fb4cc409",
   "metadata": {},
   "outputs": [
    {
     "name": "stdout",
     "output_type": "stream",
     "text": [
      "I SAGetCut\n",
      "rica Nic\n"
     ]
    }
   ],
   "source": [
    "str = 'INDIA IS A Great Country'\n",
    "print(str[3:-2:2])\n",
    "str = 'America Nice'\n",
    "print(str[-9:-1:])\n"
   ]
  },
  {
   "cell_type": "code",
   "execution_count": 1,
   "id": "1884e17d",
   "metadata": {},
   "outputs": [],
   "source": [
    "class Employee:    # class Definition\n",
    "    pass\n",
    "\n",
    "\n",
    "\n",
    "\n",
    "emp1 = Employee()     # Object Definition\n",
    "emp2 = Employee()     # Object Definition\n"
   ]
  },
  {
   "cell_type": "code",
   "execution_count": 2,
   "id": "5ed1f2e4",
   "metadata": {},
   "outputs": [
    {
     "name": "stdout",
     "output_type": "stream",
     "text": [
      "<class '__main__.Employee'>\n"
     ]
    }
   ],
   "source": [
    "print(type(emp1))"
   ]
  },
  {
   "cell_type": "code",
   "execution_count": null,
   "id": "22a9caf5",
   "metadata": {},
   "outputs": [
    {
     "name": "stdout",
     "output_type": "stream",
     "text": [
      "It Vedant\n",
      "1900\n",
      "Gaurav\n",
      "IT\n",
      "25\n",
      "Rushikesh\n",
      "19\n",
      "Finance\n"
     ]
    }
   ],
   "source": [
    "class Employee:   # class Definition\n",
    "    \n",
    "    # Define Attributes  : # class variable\n",
    "    Company_Name = \"It Vedant\"\n",
    "    Company_Est = \"1900\"\n",
    "    \n",
    "    # Define Constructor\n",
    "    def __init__(self,Name,Age,Position):\n",
    "        self.Name = Name       #instant variable\n",
    "        self.Age = Age\n",
    "        self.Position = Position\n",
    "\n",
    "emp1 = Employee (\"Gaurav\",25,\"IT\")     # Object Definition\n",
    "emp2 = Employee (\"Rushikesh\",19,\"Finance\")     #Object Definition\n",
    "\n",
    "print(emp1.Company_Name)   # Calling attribute Company_Name by an Object emp1 by using . Operator\n",
    "print(emp2.Company_Est)\n",
    "print(emp1.Name)\n",
    "print(emp1.Position)\n",
    "print(emp1.Age)\n",
    "print(emp2.Name)\n",
    "print(emp2.Age)\n",
    "print(emp2.Position)\n",
    "        \n",
    "        "
   ]
  },
  {
   "cell_type": "code",
   "execution_count": 7,
   "id": "85fea068",
   "metadata": {},
   "outputs": [
    {
     "name": "stdout",
     "output_type": "stream",
     "text": [
      "Name: Sangam\n",
      "Name: Rushikesh\n",
      "Age: 30\n"
     ]
    }
   ],
   "source": [
    "class Employee:\n",
    "    # Define Attributes:  # class Variables\n",
    "    Company_Name = \"It Vedant\"\n",
    "    Company_Est = \"1900\"\n",
    "\n",
    "    # Define Instance Method : with Instance Variables\n",
    "    def __init__(self, name, age, position):\n",
    "        self.name = name\n",
    "        self.age = age\n",
    "        self.position = position\n",
    "\n",
    "    def details(self):\n",
    "        print(f'Name: {self.name}')\n",
    "\n",
    "    def age1(self):\n",
    "        print(f'Age: {self.age}')\n",
    "\n",
    "\n",
    "# Create Two Objects: employee and manager\n",
    "employee = Employee(\"Sangam\", 30, \"IT\")\n",
    "manager = Employee(\"Rushikesh\", 19, \"Manager\")\n",
    "\n",
    "employee.details()\n",
    "manager.details()\n",
    "employee.age1()\n"
   ]
  },
  {
   "cell_type": "code",
   "execution_count": 65,
   "id": "84ef6fa7",
   "metadata": {},
   "outputs": [
    {
     "name": "stdout",
     "output_type": "stream",
     "text": [
      "Name: Sangam\n",
      "Name: Rushikesh\n",
      "Age:  30\n"
     ]
    }
   ],
   "source": [
    "class Employee:\n",
    "    Company_Name = \"It Vedant\"\n",
    "    Company_Est = \"1900\"\n",
    "    def __init__(self, name, age , position):\n",
    "        self.name = name\n",
    "        self.age = age\n",
    "        self.position = position\n",
    "    def details(self):\n",
    "     print(f'Name: {self.name}')\n",
    "    def age1(self):\n",
    "        print(f'Age:  {self.age}')   \n",
    "\n",
    "employee = Employee (\"Sangam\", 30, \"IT\")\n",
    "manager = Employee(\"Rushikesh\", 19,\"Manager\")\n",
    "\n",
    "employee.details()\n",
    "manager.details()\n",
    "employee.age1()\n",
    "\n",
    "        "
   ]
  },
  {
   "cell_type": "code",
   "execution_count": 19,
   "id": "1dee6b00",
   "metadata": {},
   "outputs": [
    {
     "name": "stdout",
     "output_type": "stream",
     "text": [
      "Tathagat\n",
      "name: Tathagat\n",
      "None\n",
      "name:Pragya\n",
      "department:HR\n",
      "None\n",
      "Pragya\n"
     ]
    }
   ],
   "source": [
    "# Inheritance \n",
    "\n",
    "class Employee:   #parent class\n",
    "     #Define  Special Function: Constructor\n",
    "     def __init__(self,name,age,position):\n",
    "         #Define Instance Variables \n",
    "         self.name = name\n",
    "         self.age = age\n",
    "         self.position = position\n",
    "    #Define Class Method : details\n",
    "     def details(self):\n",
    "         print(f'name: {self.name}')\n",
    "class Manager(Employee):  #child Class\n",
    "    \n",
    "    #Define special Function : Constructor\n",
    "     def __init__(self,name,age,position,department):\n",
    "        super().__init__(name,age,position) # Calling Instance and Methods using super()\n",
    "        self.department = department\n",
    "        \n",
    "        # Define Class method : Department details\n",
    "     def department_details(self):\n",
    "            print(f'name:{self.name}')\n",
    "            print(f'department:{self.department}')\n",
    "\n",
    "# Define Objects:\n",
    "\n",
    "m1 = Employee(\"Tathagat\",29,\"HR\")\n",
    "m2 = Manager(\"Pragya\",26,\"Senior Team Lead\",\"HR\")\n",
    "print(m1.name)\n",
    "print(m1.details())\n",
    "print(m2.department_details())\n",
    "print(m2.name)\n"
   ]
  },
  {
   "cell_type": "code",
   "execution_count": null,
   "id": "1163adde",
   "metadata": {},
   "outputs": [],
   "source": [
    "class Car:  #Parent Class\n",
    "    # Define Constructor\n",
    "    def __init__(self,enginetype,color,wheels):\n",
    "        self.wheels = wheels\n",
    "        self.color = color\n",
    "        self.enginetype = enginetype\n",
    "    \n",
    "    #Class Function : Method\n",
    "    def mileage(self):\n",
    "        self.mileage = 30\n",
    "        print(self.mileage)\n",
    "BMW = Car(\"Petrol\",\"Maroon\",\"4\")\n",
    "\n",
    "class PetrolCar(Car):\n",
    "    pass\n",
    "\n",
    "class DiselCar(Car):\n",
    "    pass\n",
    "\n",
    "class EVCar(Car):\n",
    "    pass\n"
   ]
  },
  {
   "cell_type": "code",
   "execution_count": null,
   "id": "32455f63",
   "metadata": {},
   "outputs": [
    {
     "name": "stdout",
     "output_type": "stream",
     "text": [
      "Hello from Parent!\n"
     ]
    }
   ],
   "source": [
    "# Baic Inheritance\n",
    "\n",
    "class parent:\n",
    "    def greet(self):\n",
    "        print(\"Hello from Parent!\")\n",
    "class Child(parent):\n",
    "    pass\n",
    "c = Child()\n",
    "c.greet()"
   ]
  },
  {
   "cell_type": "code",
   "execution_count": 3,
   "id": "ef578099",
   "metadata": {},
   "outputs": [
    {
     "name": "stdout",
     "output_type": "stream",
     "text": [
      "Meow\n"
     ]
    }
   ],
   "source": [
    "# Method Overriding\n",
    "class Animal:\n",
    "    def sound(self):\n",
    "        print(\"Animal sound\")\n",
    "class Cat(Animal):\n",
    "    def sound(self):\n",
    "        print(\"Meow\")\n",
    "c = Cat()\n",
    "c.sound()"
   ]
  },
  {
   "cell_type": "code",
   "execution_count": 4,
   "id": "8d2ab3ea",
   "metadata": {},
   "outputs": [
    {
     "name": "stdout",
     "output_type": "stream",
     "text": [
      "Hello!\n",
      "Welcome to class!\n"
     ]
    }
   ],
   "source": [
    "# using super() to call Parent Method\n",
    "class Person:\n",
    "    def greet(self):\n",
    "        print(\"Hello!\")\n",
    "class Student(Person):\n",
    "    def greet(self):\n",
    "        super().greet()\n",
    "        print(\"Welcome to class!\")\n",
    "s = Student()\n",
    "s.greet()"
   ]
  },
  {
   "cell_type": "code",
   "execution_count": 5,
   "id": "28b550fa",
   "metadata": {},
   "outputs": [
    {
     "name": "stdout",
     "output_type": "stream",
     "text": [
      "Toyota Camry\n"
     ]
    }
   ],
   "source": [
    "# Constructor Inheritance with super()\n",
    "class Vehicle:\n",
    "    def __init__(self,brand):\n",
    "        self.brand = brand\n",
    "class Car(Vehicle):\n",
    "    def __init__(self, brand, model):\n",
    "        super() . __init__(brand)\n",
    "        self.model = model\n",
    "c = Car(\"Toyota\", \"Camry\")\n",
    "print(c.brand, c.model)"
   ]
  },
  {
   "cell_type": "code",
   "execution_count": 6,
   "id": "48bb5239",
   "metadata": {},
   "outputs": [
    {
     "name": "stdout",
     "output_type": "stream",
     "text": [
      "Gardening, Programming\n"
     ]
    }
   ],
   "source": [
    "# Multiple Inheritance\n",
    "class Father:\n",
    "    def skills(self):\n",
    "        print(\"Gardening, Programming\")\n",
    "class Mother:\n",
    "    def skills(self):\n",
    "        print(\"Cooking, Art\")\n",
    "class Child(Father, Mother):\n",
    "    pass \n",
    "c = Child()\n",
    "c.skills()\n",
    "    "
   ]
  },
  {
   "cell_type": "code",
   "execution_count": 7,
   "id": "3a5571ec",
   "metadata": {},
   "outputs": [
    {
     "name": "stdout",
     "output_type": "stream",
     "text": [
      "Wisdom\n"
     ]
    }
   ],
   "source": [
    "# Multilevel Inheritance\n",
    "class Grandparent:\n",
    "    def legacy(self):\n",
    "        print(\"Wisdom\")\n",
    "class Parent(Grandparent):\n",
    "    pass\n",
    "class Child(Parent):\n",
    "    pass\n",
    "c = Child()\n",
    "c.legacy()"
   ]
  },
  {
   "cell_type": "code",
   "execution_count": 8,
   "id": "c58122d8",
   "metadata": {},
   "outputs": [
    {
     "name": "stdout",
     "output_type": "stream",
     "text": [
      "Moves\n",
      "Moves\n",
      "Files\n"
     ]
    }
   ],
   "source": [
    "# Hierarchical Inheritance\n",
    "class Animal:\n",
    "    def move(self):\n",
    "        print(\"Moves\")\n",
    "\n",
    "class Dog(Animal):\n",
    "    pass\n",
    "class Bird(Animal):\n",
    "    def fly(self):\n",
    "        print(\"Files\")\n",
    "\n",
    "d = Dog()\n",
    "b = Bird()\n",
    "d.move()\n",
    "b.move()\n",
    "b.fly()"
   ]
  }
 ],
 "metadata": {
  "kernelspec": {
   "display_name": "Python 3",
   "language": "python",
   "name": "python3"
  },
  "language_info": {
   "codemirror_mode": {
    "name": "ipython",
    "version": 3
   },
   "file_extension": ".py",
   "mimetype": "text/x-python",
   "name": "python",
   "nbconvert_exporter": "python",
   "pygments_lexer": "ipython3",
   "version": "3.13.7"
  }
 },
 "nbformat": 4,
 "nbformat_minor": 5
}
