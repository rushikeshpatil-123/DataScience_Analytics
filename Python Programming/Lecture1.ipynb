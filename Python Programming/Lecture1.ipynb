{
 "cells": [
  {
   "cell_type": "code",
   "execution_count": null,
   "id": "c50b7d61",
   "metadata": {},
   "outputs": [
    {
     "name": "stdout",
     "output_type": "stream",
     "text": [
      "rica Nic\n",
      "\n"
     ]
    }
   ],
   "source": [
    "str =  \" America Nice\"\n",
    "print(str[-9:-1: ])\n",
    "\n",
    "str = \"Gajanan\"\n",
    "print(str[-1:6:-1])\n"
   ]
  },
  {
   "cell_type": "code",
   "execution_count": 11,
   "id": "9f84661c",
   "metadata": {},
   "outputs": [
    {
     "name": "stdout",
     "output_type": "stream",
     "text": [
      "I am True\n"
     ]
    }
   ],
   "source": [
    "# If Else statement:\n",
    "\n",
    "if True:\n",
    "    print(\"I am True\")\n",
    "    \n",
    "if False:\n",
    "    ptint(\"I am False\")"
   ]
  },
  {
   "cell_type": "code",
   "execution_count": 13,
   "id": "d43305f1",
   "metadata": {},
   "outputs": [
    {
     "name": "stdout",
     "output_type": "stream",
     "text": [
      "The Number is satisfy Criteria\n"
     ]
    }
   ],
   "source": [
    "'''\n",
    "Logic:\n",
    "if <Condition>:\n",
    "    print(\"Output1\")\n",
    "else:\n",
    "    print(\"Output2\")\n",
    "    \n",
    "    \n",
    "'''\n",
    "num = 100\n",
    "\n",
    "if num >= 100:\n",
    "    print('The Number is satisfy Criteria')\n",
    "else:\n",
    "    print('Not satisfy the Criteria')\n",
    "    \n",
    "     "
   ]
  },
  {
   "cell_type": "code",
   "execution_count": 16,
   "id": "c1de6ec0",
   "metadata": {},
   "outputs": [
    {
     "name": "stdout",
     "output_type": "stream",
     "text": [
      "The Number is 2\n"
     ]
    }
   ],
   "source": [
    "# Guessing the Number Game \n",
    "'''\n",
    "Logic:\n",
    "step1: Enter the Number\n",
    "step2: Write Logic Code To guess the Correct Number\n",
    "step3: Output\n",
    "\n",
    "\n",
    "'''\n",
    "\n",
    "\n",
    "number = float(input('Enter the Number Betweeen 1 to 3:'))\n",
    "\n",
    "if number == 1:\n",
    "    print('The Number is 1')\n",
    "    \n",
    "if number == 2:\n",
    "        print('The Number is 2')\n",
    "        \n",
    "if number == 3:\n",
    "        print('The Number is 3')\n",
    "         "
   ]
  },
  {
   "cell_type": "code",
   "execution_count": 17,
   "id": "48732388",
   "metadata": {},
   "outputs": [
    {
     "name": "stdout",
     "output_type": "stream",
     "text": [
      "The Enter Number is Higher Value\n",
      "The number is 2\n"
     ]
    }
   ],
   "source": [
    "number = float(input())\n",
    "if number > 2:\n",
    "    print('The Enter Number is Higher Value')\n",
    "if number < 2:\n",
    "    print('The Enter Number is Lower Value')\n",
    "else:\n",
    "    print('The number is 2')"
   ]
  },
  {
   "cell_type": "code",
   "execution_count": 18,
   "id": "e435b8a1",
   "metadata": {},
   "outputs": [
    {
     "name": "stdout",
     "output_type": "stream",
     "text": [
      "Very Good\n"
     ]
    }
   ],
   "source": [
    "if True:\n",
    "    if True:\n",
    "        if True:\n",
    "            print('Very Good')"
   ]
  },
  {
   "cell_type": "code",
   "execution_count": null,
   "id": "d4c647f0",
   "metadata": {},
   "outputs": [
    {
     "name": "stdout",
     "output_type": "stream",
     "text": [
      "The given String is palindrom\n"
     ]
    }
   ],
   "source": [
    "# Example: To Check whether the given string is palindrom or Not \n",
    "\n",
    "'''\n",
    "step1: Ask user to enter the string \n",
    "step2: reverse the string \n",
    "step3: use if else logic to print the output\n",
    "'''\n",
    "\n",
    "\n",
    "\n",
    "\n",
    "\n",
    "\n",
    "text1 = input('Enter the string: ')   # Assingment Operator\n",
    "text2 = text1[::-1]\n",
    "\n",
    "if text1 == text2:         # This is Comparison Operator\n",
    "    print('The given String is palindrom')\n",
    "else:\n",
    "    print('not a palindrom')    \n"
   ]
  }
 ],
 "metadata": {
  "kernelspec": {
   "display_name": "Python 3",
   "language": "python",
   "name": "python3"
  },
  "language_info": {
   "codemirror_mode": {
    "name": "ipython",
    "version": 3
   },
   "file_extension": ".py",
   "mimetype": "text/x-python",
   "name": "python",
   "nbconvert_exporter": "python",
   "pygments_lexer": "ipython3",
   "version": "3.13.7"
  }
 },
 "nbformat": 4,
 "nbformat_minor": 5
}
