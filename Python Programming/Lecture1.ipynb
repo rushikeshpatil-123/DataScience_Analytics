{
 "cells": [
  {
   "cell_type": "code",
   "execution_count": null,
   "id": "c50b7d61",
   "metadata": {},
   "outputs": [],
   "source": [
    "str =  \" America Nice\"\n",
    "print(str[-9:-1: ])\n",
    "\n",
    "str = \"Gajanan\"\n",
    "print(str[-1:6:-1])\n"
   ]
  },
  {
   "cell_type": "code",
   "execution_count": null,
   "id": "9f84661c",
   "metadata": {},
   "outputs": [],
   "source": [
    "# If Else statement:\n",
    "\n",
    "if True:\n",
    "    print(\"I am True\")\n",
    "    \n",
    "if False:\n",
    "    ptint(\"I am False\")"
   ]
  },
  {
   "cell_type": "code",
   "execution_count": null,
   "id": "d43305f1",
   "metadata": {},
   "outputs": [],
   "source": [
    "'''\n",
    "Logic:\n",
    "if <Condition>:\n",
    "    print(\"Output1\")\n",
    "else:\n",
    "    print(\"Output2\")\n",
    "    \n",
    "    \n",
    "'''\n",
    "num = 100\n",
    "\n",
    "if num >= 100:\n",
    "    print('The Number is satisfy Criteria')\n",
    "else:\n",
    "    print('Not satisfy the Criteria')\n",
    "    \n",
    "     "
   ]
  },
  {
   "cell_type": "code",
   "execution_count": null,
   "id": "c1de6ec0",
   "metadata": {},
   "outputs": [],
   "source": [
    "# Guessing the Number Game \n",
    "'''\n",
    "Logic:\n",
    "step1: Enter the Number\n",
    "step2: Write Logic Code To guess the Correct Number\n",
    "step3: Output\n",
    "\n",
    "\n",
    "'''\n",
    "\n",
    "\n",
    "number = float(input('Enter the Number Betweeen 1 to 3:'))\n",
    "\n",
    "if number == 1:\n",
    "    print('The Number is 1')\n",
    "    \n",
    "if number == 2:\n",
    "        print('The Number is 2')\n",
    "        \n",
    "if number == 3:\n",
    "        print('The Number is 3')\n",
    "         "
   ]
  },
  {
   "cell_type": "code",
   "execution_count": null,
   "id": "48732388",
   "metadata": {},
   "outputs": [],
   "source": [
    "number = float(input())\n",
    "if number > 2:\n",
    "    print('The Enter Number is Higher Value')\n",
    "if number < 2:\n",
    "    print('The Enter Number is Lower Value')\n",
    "else:\n",
    "    print('The number is 2')"
   ]
  },
  {
   "cell_type": "code",
   "execution_count": null,
   "id": "e435b8a1",
   "metadata": {},
   "outputs": [],
   "source": [
    "if True:\n",
    "    if True:\n",
    "        if True:\n",
    "            print('Very Good')"
   ]
  },
  {
   "cell_type": "code",
   "execution_count": null,
   "id": "d4c647f0",
   "metadata": {},
   "outputs": [],
   "source": [
    "# Example: To Check whether the given string is palindrom or Not \n",
    "\n",
    "'''\n",
    "step1: Ask user to enter the string \n",
    "step2: reverse the string \n",
    "step3: use if else logic to print the output\n",
    "'''\n",
    "\n",
    "\n",
    "\n",
    "\n",
    "\n",
    "\n",
    "text1 = input('Enter the string: ')   # Assingment Operator\n",
    "text2 = text1[::-1]\n",
    "\n",
    "if text1 == text2:         # This is Comparison Operator\n",
    "    print('The given String is palindrom')\n",
    "else:\n",
    "    print('not a palindrom')    \n"
   ]
  },
  {
   "cell_type": "code",
   "execution_count": null,
   "id": "834145f7",
   "metadata": {},
   "outputs": [],
   "source": [
    "# Simple program using only multiple if statements\n",
    "\n",
    "score = int(input(\"Enter your score (out of 100): \"))\n",
    "\n",
    "if score >= 90:\n",
    "    print(\"Excellent\")\n",
    "\n",
    "if score >= 75 and score < 90:\n",
    "    print(\"Good\")\n",
    "\n",
    "if score < 75:\n",
    "    print(\"Satisfied\")\n"
   ]
  },
  {
   "cell_type": "code",
   "execution_count": null,
   "id": "3db16ab5",
   "metadata": {},
   "outputs": [],
   "source": [
    "# Program using only multiple if statements\n",
    "\n",
    "score = int(input(\"Enter your score (out of 100): \"))\n",
    "\n",
    "if score >= 90:\n",
    "    print(\"Excellent\")\n",
    "\n",
    "if score >= 75 and score < 90:\n",
    "    print(\"Good\")\n",
    "\n",
    "if score < 75:\n",
    "    print(\"Satisfied\")\n"
   ]
  },
  {
   "cell_type": "code",
   "execution_count": 2,
   "id": "d21f5fa7",
   "metadata": {},
   "outputs": [
    {
     "name": "stdout",
     "output_type": "stream",
     "text": [
      "The Volume of Cylinder is 42.418350000000004  mm^3\n"
     ]
    }
   ],
   "source": [
    "#Example : Write a Program to Print Volume of Cylinder\n",
    "'''  \n",
    "Volume = Area * Height\n",
    "step1: Ask user to enter the Diameter of Cylinder\n",
    "step2: Ask user to enter the Height of Cylinder\n",
    "step3: Volume = Area * Height\n",
    "step4: print the desired output\n",
    "'''\n",
    "PI = 3.1421\n",
    "Diameter= float(input(\"Enter the Diameter of Cylinder:\"))\n",
    "Height= float(input(\"Enter the Height of Cylinder:\"))\n",
    "\n",
    "Volume =(PI/4)*(Diameter**2)* Height\n",
    "\n",
    "print(f'The Volume of Cylinder is {Volume}  mm^3')"
   ]
  },
  {
   "cell_type": "code",
   "execution_count": 4,
   "id": "faf4b450",
   "metadata": {},
   "outputs": [
    {
     "name": "stdout",
     "output_type": "stream",
     "text": [
      "Bright\n"
     ]
    }
   ],
   "source": [
    "Marks = float(input(\"Enter the Marks:\"))\n",
    "if Marks>=90:\n",
    "    print('Excellent')\n",
    "elif Marks < 90 and Marks > 60:\n",
    "    print(\"Bright\")\n",
    "else:\n",
    "    print(\"Average\")"
   ]
  },
  {
   "cell_type": "code",
   "execution_count": null,
   "id": "a59f59b6",
   "metadata": {},
   "outputs": [
    {
     "name": "stdout",
     "output_type": "stream",
     "text": [
      "0\n",
      "1\n",
      "2\n",
      "3\n",
      "4\n",
      "5\n",
      "6\n",
      "7\n",
      "8\n",
      "9\n"
     ]
    }
   ],
   "source": [
    "#for loop\n",
    "#range(start,stop,step)\n",
    "for i in range(0,10):\n",
    "    print(i)"
   ]
  },
  {
   "cell_type": "code",
   "execution_count": 6,
   "id": "63274dec",
   "metadata": {},
   "outputs": [
    {
     "name": "stdout",
     "output_type": "stream",
     "text": [
      "0\n",
      "2\n",
      "4\n",
      "6\n",
      "8\n"
     ]
    }
   ],
   "source": [
    "for i in range(0,10,2):\n",
    "    print(i)"
   ]
  },
  {
   "cell_type": "code",
   "execution_count": 7,
   "id": "408d24a9",
   "metadata": {},
   "outputs": [
    {
     "name": "stdout",
     "output_type": "stream",
     "text": [
      "0 1 2 3 4 5 6 7 8 9 "
     ]
    }
   ],
   "source": [
    "for i in range(0,10):\n",
    "    print(i,end=' '\n",
    ")"
   ]
  },
  {
   "cell_type": "code",
   "execution_count": 9,
   "id": "6fd009f5",
   "metadata": {},
   "outputs": [
    {
     "name": "stdout",
     "output_type": "stream",
     "text": [
      "\n",
      "*\n",
      "**\n",
      "***\n",
      "****\n",
      "*****\n",
      "******\n",
      "*******\n",
      "********\n",
      "*********\n"
     ]
    }
   ],
   "source": [
    "for i in range(10):\n",
    "    print('*'*i)\n",
    "    "
   ]
  },
  {
   "cell_type": "code",
   "execution_count": null,
   "id": "f7a4705a",
   "metadata": {},
   "outputs": [
    {
     "name": "stdout",
     "output_type": "stream",
     "text": [
      "1\n",
      "1\n",
      "1\n",
      "1\n",
      "1\n",
      "1\n",
      "1\n"
     ]
    }
   ],
   "source": [
    "for i in range(0,10):\n",
    "    print(1)\n",
    "    if i == 6:\n",
    "     break"
   ]
  },
  {
   "cell_type": "code",
   "execution_count": 12,
   "id": "0d7cc371",
   "metadata": {},
   "outputs": [
    {
     "name": "stdout",
     "output_type": "stream",
     "text": [
      "1\n",
      "1\n",
      "1\n",
      "1\n",
      "1\n",
      "1\n",
      "1\n",
      "1\n",
      "1\n",
      "1\n"
     ]
    }
   ],
   "source": [
    "for i in range(0,10):\n",
    "    print(1)\n",
    "    if i == 6:\n",
    "     continue"
   ]
  },
  {
   "cell_type": "code",
   "execution_count": 14,
   "id": "3baf0f26",
   "metadata": {},
   "outputs": [
    {
     "name": "stdout",
     "output_type": "stream",
     "text": [
      "1\n",
      "1\n",
      "1\n",
      "1\n",
      "1\n",
      "1\n",
      "1\n",
      "1\n",
      "1\n",
      "1\n"
     ]
    }
   ],
   "source": [
    "for i in range(0,10):\n",
    "    print(1)\n",
    "    if i == 6:\n",
    "        pass"
   ]
  },
  {
   "cell_type": "code",
   "execution_count": 18,
   "id": "8c243e36",
   "metadata": {},
   "outputs": [],
   "source": [
    "#Example\n",
    "#Palindrom function definition\n",
    "def Palindrom():\n",
    "    text1 = input('Enter the string:')\n",
    "    text2 = text1[::-1]\n",
    "    if text1 == text2:\n",
    "       print(\"The given string is a Palindrome\") \n",
    "    else :\n",
    "        print(\"The given is not a Palindrom\")\n",
    "       \n",
    "    Palindrom() #Function Calling\n",
    "    "
   ]
  },
  {
   "cell_type": "code",
   "execution_count": 19,
   "id": "0b58f670",
   "metadata": {},
   "outputs": [
    {
     "name": "stdout",
     "output_type": "stream",
     "text": [
      "The Answer is 300\n"
     ]
    }
   ],
   "source": [
    "# Example\n",
    "\n",
    "def Compute(num1,num2):\n",
    "    num3 = num1 + num2  \n",
    "    return num3 \n",
    "\n",
    "ans = Compute(100,200) # Function Calling\n",
    "\n",
    "print(f'The Answer is {ans}')"
   ]
  }
 ],
 "metadata": {
  "kernelspec": {
   "display_name": "Python 3",
   "language": "python",
   "name": "python3"
  },
  "language_info": {
   "codemirror_mode": {
    "name": "ipython",
    "version": 3
   },
   "file_extension": ".py",
   "mimetype": "text/x-python",
   "name": "python",
   "nbconvert_exporter": "python",
   "pygments_lexer": "ipython3",
   "version": "3.13.7"
  }
 },
 "nbformat": 4,
 "nbformat_minor": 5
}
