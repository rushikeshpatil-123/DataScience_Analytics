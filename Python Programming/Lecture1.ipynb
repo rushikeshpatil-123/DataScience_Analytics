{
 "cells": [
  {
   "cell_type": "code",
   "execution_count": 1,
   "id": "c50b7d61",
   "metadata": {},
   "outputs": [
    {
     "name": "stdout",
     "output_type": "stream",
     "text": [
      "rica Nic\n",
      "\n"
     ]
    }
   ],
   "source": [
    "str =  \" America Nice\"\n",
    "print(str[-9:-1: ])\n",
    "\n",
    "str = \"Gajanan\"\n",
    "print(str[-1:6:-1])\n"
   ]
  },
  {
   "cell_type": "code",
   "execution_count": 2,
   "id": "87543e6f",
   "metadata": {},
   "outputs": [
    {
     "name": "stdout",
     "output_type": "stream",
     "text": [
      "<class 'int'>\n",
      "<class 'float'>\n",
      "<class 'str'>\n",
      "<class 'bool'>\n",
      "<class 'list'>\n",
      "<class 'dict'>\n",
      "<class 'tuple'>\n",
      "<class 'set'>\n",
      "<class 'NoneType'>\n",
      "<class 'complex'>\n",
      "<class 'range'>\n",
      "<class 'bytes'>\n"
     ]
    }
   ],
   "source": [
    "# Data types in python\n",
    "# 1 int\n",
    "age = 32\n",
    "print(type(age))\n",
    "\n",
    "# 2 float\n",
    "weight = 72.50\n",
    "print(type(weight))\n",
    "\n",
    "#3  string\n",
    "name = 'rushi'\n",
    "print(type(name))\n",
    "\n",
    "# 4 boolean\n",
    "is_boy = True \n",
    "print(type(is_boy))\n",
    "\n",
    "#5 list\n",
    "\n",
    "list1 = [100,200,300]\n",
    "print(type(list1))\n",
    "\n",
    "\n",
    "# 6 dictionary \n",
    "dict1 = {'name' : 'rushi', 'age': 19, }\n",
    "print(type(dict1))\n",
    "\n",
    "# 7 tuple\n",
    "tup = (10,20,30)\n",
    "print(type(tup))\n",
    "\n",
    "# 8 Set\n",
    "set1 = {1,2,3,4,5,6,7,8}\n",
    "print(type(set1))\n",
    "#9 None\n",
    "house_no = None\n",
    "print(type(house_no))\n",
    "\n",
    "# 10 Complex \n",
    "com = 1+2j\n",
    "print(type(com))\n",
    "\n",
    "#11 range\n",
    "\n",
    "num = range(1,5)\n",
    "print(type(num))\n",
    "\n",
    "# 12 bytes & bytearray\n",
    "byte = bytes([65,66,97])\n",
    "print(type(byte))\n",
    "\n",
    "\n",
    "\n",
    "\n"
   ]
  },
  {
   "cell_type": "code",
   "execution_count": 3,
   "id": "dce13286",
   "metadata": {},
   "outputs": [
    {
     "name": "stdout",
     "output_type": "stream",
     "text": [
      "4282\n"
     ]
    }
   ],
   "source": [
    "# typecasting \n",
    "num1 = int(input(\"Enter first number\"))\n",
    "num2 = int(input(\"Enter Second number\"))\n",
    "print(num1+num2)"
   ]
  },
  {
   "cell_type": "code",
   "execution_count": 4,
   "id": "fca67526",
   "metadata": {},
   "outputs": [
    {
     "name": "stdout",
     "output_type": "stream",
     "text": [
      "40.5\n",
      "410.0\n"
     ]
    }
   ],
   "source": [
    "num1 = 20\n",
    "num2 = 20.5\n",
    "\n",
    "print(num1+num2)\n",
    "print(num1*num2)"
   ]
  },
  {
   "cell_type": "code",
   "execution_count": 5,
   "id": "72a89cf1",
   "metadata": {},
   "outputs": [
    {
     "name": "stdout",
     "output_type": "stream",
     "text": [
      "11.0\n",
      "0xb\n",
      "0o13\n",
      "0b1011\n",
      "65\n",
      "65\n"
     ]
    }
   ],
   "source": [
    "a = 11\n",
    "f = float(a)\n",
    "print(f)\n",
    "b = hex(a)\n",
    "print(b)\n",
    "c = oct(a)\n",
    "print(c)\n",
    "d = bin(a)\n",
    "print(d)\n",
    "char = 'A'\n",
    "e = ord(char)\n",
    "print(e)\n",
    "e = 65\n",
    "char = chr(e)\n",
    "print(e)\n",
    "\n",
    "\n"
   ]
  },
  {
   "cell_type": "code",
   "execution_count": 17,
   "id": "1b2d6086",
   "metadata": {},
   "outputs": [
    {
     "name": "stdout",
     "output_type": "stream",
     "text": [
      "I' ll call you letter\n",
      "prepare well for \" GATE-2024\" exam\n",
      "Hello, \t\t\t Rushikesh!\n",
      "Huge_benefits_of__study\n"
     ]
    }
   ],
   "source": [
    "# escape character\n",
    "print('I\\' ll call you letter')\n",
    "\n",
    "print(\"prepare well for \\\" GATE-2024\\\" exam\")\n",
    "\n",
    "a = \"Hello, \\t\\t\\t Rushikesh!\"\n",
    "print(a)\n",
    "\n",
    "x = \"no__benefits__of__study\\rHuge_benefits\"\n",
    "print(x)"
   ]
  },
  {
   "cell_type": "code",
   "execution_count": null,
   "id": "d2a86f30",
   "metadata": {},
   "outputs": [
    {
     "name": "stdout",
     "output_type": "stream",
     "text": [
      "eligible for the loan\n",
      "not eligible\n",
      "my name is b\n"
     ]
    }
   ],
   "source": [
    "# logical opreator\n",
    "\n",
    "age = 15\n",
    "income =  20000\n",
    "if age >= 18 or income >= 15000:\n",
    "    print(\"eligible for the loan\")\n",
    "else:\n",
    "    print(\"not eligible\")\n",
    "    \n",
    "    \n",
    "age = 15\n",
    "income =  20000\n",
    "if age >= 18 and income >= 15000:\n",
    "    print(\"eligible for the loan\")\n",
    "else:\n",
    "    print(\"not eligible\")\n",
    "        \n",
    "        \n",
    "a = True \n",
    "b = False \n",
    "if not a:\n",
    "    print(\"my name is a\") \n",
    "if not b:\n",
    "    print(\"my name is b\")      \n",
    "    # ok"
   ]
  },
  {
   "cell_type": "code",
   "execution_count": 7,
   "id": "3bc6460d",
   "metadata": {},
   "outputs": [
    {
     "name": "stdout",
     "output_type": "stream",
     "text": [
      "0b1000\n",
      "0b1110\n",
      "-0b1011\n",
      "0b110\n",
      "0b101000\n",
      "0b101\n"
     ]
    }
   ],
   "source": [
    "# Bitwise AND\n",
    "\n",
    "a = 0b1010\n",
    "b = 0b1100\n",
    "c = a & b\n",
    "print(bin(c))\n",
    "\n",
    "# Bitwise OR\n",
    "a = 0b1010\n",
    "b = 0b1100\n",
    "c = a | b \n",
    "print(bin(c))\n",
    "\n",
    "# Bitwise NOT\n",
    "\n",
    "a = 0b1010\n",
    "c = ~a\n",
    "print(bin(c))\n",
    "\n",
    "#Bitwise XOR\n",
    "a = 0b1010\n",
    "b = 0b1100\n",
    "c = a^ b\n",
    "print(bin(c))\n",
    "\n",
    "# Bitwise Left Shift\n",
    "a = 0b1010\n",
    "c = a<<2\n",
    "print(bin(c))\n",
    "\n",
    "# Bitwise Right Shift \n",
    "a = 0b1010\n",
    "c = a >>1 \n",
    "print(bin(c))"
   ]
  },
  {
   "cell_type": "code",
   "execution_count": 15,
   "id": "16e2c37d",
   "metadata": {},
   "outputs": [
    {
     "name": "stdout",
     "output_type": "stream",
     "text": [
      "True\n",
      "True\n",
      "140704506082504\n",
      "140704506082504\n",
      "140704506082504\n"
     ]
    }
   ],
   "source": [
    "# identity opreator\n",
    "x = 10\n",
    "y= 10 \n",
    "print(x is y )\n",
    "z = x \n",
    "print(z is x)\n",
    "print(id(x))\n",
    "print(id(y))\n",
    "print(id(z))"
   ]
  },
  {
   "cell_type": "code",
   "execution_count": 18,
   "id": "611f7931",
   "metadata": {},
   "outputs": [
    {
     "name": "stdout",
     "output_type": "stream",
     "text": [
      "True\n",
      "140704506082504\n",
      "140704506082824\n"
     ]
    }
   ],
   "source": [
    "x = 10 \n",
    "y = 20\n",
    "print(x is  not y )\n",
    "print(id(x))\n",
    "print(id(y))"
   ]
  },
  {
   "cell_type": "code",
   "execution_count": 21,
   "id": "81e07de3",
   "metadata": {},
   "outputs": [
    {
     "name": "stdout",
     "output_type": "stream",
     "text": [
      "True\n",
      "False\n",
      "True\n"
     ]
    }
   ],
   "source": [
    "# Membership Opreator in python \n",
    "list = [1,2,3,4,5]\n",
    "print( 1 in list)\n",
    "print(10 in list)\n",
    "print(10 not in list)"
   ]
  },
  {
   "cell_type": "code",
   "execution_count": 24,
   "id": "28d52198",
   "metadata": {},
   "outputs": [
    {
     "name": "stdout",
     "output_type": "stream",
     "text": [
      "153\n"
     ]
    }
   ],
   "source": [
    "print(3**2+ (6+6)**(1+1))"
   ]
  },
  {
   "cell_type": "code",
   "execution_count": 23,
   "id": "e6aaffb3",
   "metadata": {},
   "outputs": [
    {
     "name": "stdout",
     "output_type": "stream",
     "text": [
      "Access granted. Welcome bro\n"
     ]
    }
   ],
   "source": [
    "reg_user = [\"rushi\", \"prashant\", \"Aniket \", \"Mahesh\"]\n",
    "name = input(\"Enter your name: \")\n",
    "\n",
    "if name in reg_user:\n",
    "    print(\"Access granted. Welcome bro\")\n",
    "else:\n",
    "    print(\"Access denied. you are not registered\")"
   ]
  },
  {
   "cell_type": "code",
   "execution_count": null,
   "id": "7458a5f4",
   "metadata": {},
   "outputs": [],
   "source": [
    "# python datatype\n",
    "#Mutable Datatype  :   ADD / Modify / Delete \n",
    "# 1) Lists\n",
    "# 2) Dictionary\n",
    "# 3) Sets\n",
    "\n",
    "# Immutable Datatype:    No chnage \n",
    "# 1) Number\n",
    "# 2 ) Strings \n",
    "# 3 Tuples"
   ]
  },
  {
   "cell_type": "code",
   "execution_count": 29,
   "id": "44272c3c",
   "metadata": {},
   "outputs": [
    {
     "data": {
      "text/plain": [
       "13"
      ]
     },
     "execution_count": 29,
     "metadata": {},
     "output_type": "execute_result"
    }
   ],
   "source": [
    "# string in python\n",
    "first_string = 'Hello, World!'\n",
    "#print(first_string)\n",
    "len(first_string)\n",
    "#first_string[1]\n",
    "#first_string[1] = 'o'\n",
    "#first_string[1:4]"
   ]
  },
  {
   "cell_type": "code",
   "execution_count": 33,
   "id": "186edc9c",
   "metadata": {},
   "outputs": [
    {
     "name": "stdout",
     "output_type": "stream",
     "text": [
      "[1, 100, 3]\n"
     ]
    }
   ],
   "source": [
    "list1 = [1,2,3]\n",
    "list1[1] = 100\n",
    "print(list1)"
   ]
  },
  {
   "cell_type": "code",
   "execution_count": 34,
   "id": "4d25e95f",
   "metadata": {},
   "outputs": [
    {
     "name": "stdout",
     "output_type": "stream",
     "text": [
      "Rushi45\n"
     ]
    }
   ],
   "source": [
    "string1 = 'Rushi'\n",
    "string2 = str(45)\n",
    "string3 = string1+ string2\n",
    "print(string3)"
   ]
  },
  {
   "cell_type": "code",
   "execution_count": 35,
   "id": "56f55b5e",
   "metadata": {},
   "outputs": [
    {
     "name": "stdout",
     "output_type": "stream",
     "text": [
      "my first name is rushi & last name is patil & age is 19\n"
     ]
    }
   ],
   "source": [
    "first = 'rushi'\n",
    "last = 'patil'\n",
    "age = 19\n",
    "print(f'my first name is {first} & last name is {last} & age is {age}')"
   ]
  },
  {
   "cell_type": "code",
   "execution_count": 37,
   "id": "ecf063aa",
   "metadata": {},
   "outputs": [
    {
     "name": "stdout",
     "output_type": "stream",
     "text": [
      "my first name isrushi & last name is patil & age is 19\n"
     ]
    }
   ],
   "source": [
    "first = 'rushi'\n",
    "last = 'patil'\n",
    "age = 19\n",
    "newone = 'my first name is{} & last name is {} & age is {}'.format(first,last , age)\n",
    "print(newone)"
   ]
  },
  {
   "cell_type": "code",
   "execution_count": null,
   "id": "2e5ce612",
   "metadata": {},
   "outputs": [
    {
     "name": "stdout",
     "output_type": "stream",
     "text": [
      "Smash\n",
      "Gate Smash\n",
      "Smashers\n",
      "Gate Smashers\n",
      "Smash\n",
      "Sahr\n",
      "srehsamS etaG\n",
      "SMASHER\n"
     ]
    }
   ],
   "source": [
    "# slicing in python string    [start:stop:step ]\n",
    "string1 = \"Gate Smashers\"\n",
    "substr1 = string1[5:10]\n",
    "print(substr1)\n",
    "substr2 = string1[:10]\n",
    "print(substr2)\n",
    "substr3 = string1[5:]\n",
    "print(substr3)\n",
    "substr4 = string1[:]\n",
    "print(substr4)\n",
    "substr5 = string1[-8:-3]\n",
    "print(substr5)\n",
    "substr6 = string1[5::2]\n",
    "print(substr6)\n",
    "substr7 = string1[::-1]\n",
    "print(substr7)\n",
    "substr8 = string1[5:12].upper()\n",
    "print(substr8)"
   ]
  },
  {
   "cell_type": "code",
   "execution_count": 55,
   "id": "9191f0a8",
   "metadata": {},
   "outputs": [
    {
     "name": "stdout",
     "output_type": "stream",
     "text": [
      "[20, 20.5, 'rushi']\n",
      "[['rushi', 2006], ['prashant', 2005]]\n"
     ]
    }
   ],
   "source": [
    "# list in python\n",
    "# list 1 is an exmaple of mixed data types\n",
    "list1 = [20, 20.5,'hello']\n",
    "list1[2]= 'rushi'\n",
    "print(list1)\n",
    "# list 2 is an example of Nested list \n",
    "list2 = [['rushi', 2006],['prashant', 2005]]\n",
    "print(list2) "
   ]
  },
  {
   "cell_type": "code",
   "execution_count": 56,
   "id": "441ce06e",
   "metadata": {},
   "outputs": [
    {
     "data": {
      "text/plain": [
       "[1, 3, 5, 7, 9, 2, 4, 6, 8, 10]"
      ]
     },
     "execution_count": 56,
     "metadata": {},
     "output_type": "execute_result"
    }
   ],
   "source": [
    "# List operations\n",
    "# 1) Concatenation\n",
    "  # list1 is a list of the first five odd integers\n",
    "list1 = [1,3,5,7,9]\n",
    "  # list2 is a list of the first five even integers\n",
    "list2 = [2,4,6,8,10]\n",
    "list1 + list2"
   ]
  },
  {
   "cell_type": "code",
   "execution_count": 58,
   "id": "b3da8a65",
   "metadata": {},
   "outputs": [
    {
     "data": {
      "text/plain": [
       "['Hello', 'Hello', 'Hello', 'Hello', 'Hello']"
      ]
     },
     "execution_count": 58,
     "metadata": {},
     "output_type": "execute_result"
    }
   ],
   "source": [
    "# 2 Repetition\n",
    "list1 = ['Hello']\n",
    "list1*5"
   ]
  },
  {
   "cell_type": "code",
   "execution_count": null,
   "id": "41cc4873",
   "metadata": {},
   "outputs": [
    {
     "data": {
      "text/plain": [
       "False"
      ]
     },
     "execution_count": 61,
     "metadata": {},
     "output_type": "execute_result"
    }
   ],
   "source": [
    "# 3 Membership\n",
    "list1 = ['rushi','prashant','amit']\n",
    "'rushi' in list1\n",
    "'nitin'in list1"
   ]
  },
  {
   "cell_type": "code",
   "execution_count": 65,
   "id": "2cf88b4c",
   "metadata": {},
   "outputs": [
    {
     "data": {
      "text/plain": [
       "['Rushi', 'Patil', 'chetan', 'Sagar']"
      ]
     },
     "execution_count": 65,
     "metadata": {},
     "output_type": "execute_result"
    }
   ],
   "source": [
    "# 4 Slicing \n",
    "list1 = ['Rushi','Patil','chetan','Sagar','Rahul','prashu']\n",
    "list1[0:4]"
   ]
  },
  {
   "cell_type": "code",
   "execution_count": null,
   "id": "c5bc639a",
   "metadata": {},
   "outputs": [
    {
     "data": {
      "text/plain": [
       "5"
      ]
     },
     "execution_count": 4,
     "metadata": {},
     "output_type": "execute_result"
    }
   ],
   "source": [
    "# list function in python\n",
    "# len()\n",
    "list1 = [10,20,30,40,50]\n",
    "len(list1)\n"
   ]
  },
  {
   "cell_type": "code",
   "execution_count": 6,
   "id": "56c52a7b",
   "metadata": {},
   "outputs": [
    {
     "data": {
      "text/plain": [
       "['a', 'e', 'i', 'o', 'u']"
      ]
     },
     "execution_count": 6,
     "metadata": {},
     "output_type": "execute_result"
    }
   ],
   "source": [
    "\n",
    "# list()\n",
    "list1 = list()\n",
    "list1\n",
    "str1 = 'aeiou'\n",
    "list1 = list(str1)\n",
    "list1"
   ]
  },
  {
   "cell_type": "code",
   "execution_count": 9,
   "id": "5887dc2d",
   "metadata": {},
   "outputs": [
    {
     "name": "stdout",
     "output_type": "stream",
     "text": [
      "[10, 20, 30, 40, 50]\n",
      "[10, 20, 30, 40, [50, 60]]\n"
     ]
    }
   ],
   "source": [
    "# append()\n",
    "list1 = [10,20,30,40]\n",
    "list1.append(50)\n",
    "print(list1)\n",
    "list2 = [10,20,30,40]\n",
    "list2.append([50,60])\n",
    "print(list2)"
   ]
  },
  {
   "cell_type": "code",
   "execution_count": 10,
   "id": "2fcd2b0d",
   "metadata": {},
   "outputs": [
    {
     "name": "stdout",
     "output_type": "stream",
     "text": [
      "[10, 20, 30, 40, 50]\n"
     ]
    }
   ],
   "source": [
    "# extend()\n",
    "list1 = [10,20,30]\n",
    "list2 = [40,50]\n",
    "list1.extend(list2)\n",
    "print(list1)"
   ]
  },
  {
   "cell_type": "code",
   "execution_count": 14,
   "id": "029082d6",
   "metadata": {},
   "outputs": [
    {
     "data": {
      "text/plain": [
       "[5, 10, 20, 25, 30, 40, 50]"
      ]
     },
     "execution_count": 14,
     "metadata": {},
     "output_type": "execute_result"
    }
   ],
   "source": [
    "# insert()\n",
    "list1 = [10,20,30,40,50]\n",
    "list1.insert(2,25)\n",
    "list1\n",
    "list1.insert(0,5)\n",
    "list1"
   ]
  },
  {
   "cell_type": "code",
   "execution_count": 18,
   "id": "1df11a14",
   "metadata": {},
   "outputs": [
    {
     "data": {
      "text/plain": [
       "0"
      ]
     },
     "execution_count": 18,
     "metadata": {},
     "output_type": "execute_result"
    }
   ],
   "source": [
    "# count()\n",
    "list1 = [10,20,30,10,40,10]\n",
    "list1.count(10)\n",
    "list1.count(90)"
   ]
  },
  {
   "cell_type": "code",
   "execution_count": 19,
   "id": "22804be1",
   "metadata": {},
   "outputs": [
    {
     "data": {
      "text/plain": [
       "1"
      ]
     },
     "execution_count": 19,
     "metadata": {},
     "output_type": "execute_result"
    }
   ],
   "source": [
    "# index()\n",
    "list1 = [10,20,30,20,40,10]\n",
    "list1.index(20)\n"
   ]
  },
  {
   "cell_type": "code",
   "execution_count": 21,
   "id": "f17fc6be",
   "metadata": {},
   "outputs": [
    {
     "data": {
      "text/plain": [
       "[10, 20, 40, 50, 30]"
      ]
     },
     "execution_count": 21,
     "metadata": {},
     "output_type": "execute_result"
    }
   ],
   "source": [
    "# remove()\n",
    "list1 = [10,20,30,40,50,30]\n",
    "list1.remove(30)\n",
    "list1"
   ]
  },
  {
   "cell_type": "code",
   "execution_count": 26,
   "id": "b58fb7be",
   "metadata": {},
   "outputs": [
    {
     "data": {
      "text/plain": [
       "[10, 20, 30, 40, 50, 60]"
      ]
     },
     "execution_count": 26,
     "metadata": {},
     "output_type": "execute_result"
    }
   ],
   "source": [
    "# pop()\n",
    "list1 = [10,20,30,40,50,60]\n",
    "list1.pop(3)\n",
    "list1\n",
    "list1 = [10,20,30,40,50,60]\n",
    "list1.pop() \n",
    "list2"
   ]
  },
  {
   "cell_type": "code",
   "execution_count": 28,
   "id": "39ab56bc",
   "metadata": {},
   "outputs": [
    {
     "name": "stdout",
     "output_type": "stream",
     "text": [
      "[99, 28, 28, 89, 12, 66, 34]\n",
      "['Fox', 'Cat', 'Dog']\n"
     ]
    }
   ],
   "source": [
    "# reverse()\n",
    "list1 = [34,66,12,89,28,28,99]\n",
    "list1.reverse()\n",
    "print(list1)\n",
    "list2 = ['Dog','Cat','Fox']\n",
    "list2.reverse()\n",
    "print(list2)"
   ]
  },
  {
   "cell_type": "code",
   "execution_count": 31,
   "id": "da3208cb",
   "metadata": {},
   "outputs": [
    {
     "name": "stdout",
     "output_type": "stream",
     "text": [
      "['Cat', 'Dog', 'Elephant', 'Lion', 'Tiger', 'Zebra']\n",
      "[99, 89, 66, 34, 28, 12]\n"
     ]
    }
   ],
   "source": [
    "# sort()\n",
    "list1 = ['Tiger','Zebra','Lion','Cat','Elephant','Dog']\n",
    "list1.sort()\n",
    "print(list1)\n",
    "list1 = [34,66,12,89,28,99]\n",
    "list1.sort(reverse=True)\n",
    "print(list1)\n"
   ]
  },
  {
   "cell_type": "code",
   "execution_count": 33,
   "id": "62caa063",
   "metadata": {},
   "outputs": [
    {
     "name": "stdout",
     "output_type": "stream",
     "text": [
      "[23, 45, 11, 67, 85, 56]\n",
      "[11, 23, 45, 56, 67, 85]\n"
     ]
    }
   ],
   "source": [
    "# Sorted\n",
    "list1 = [23,45,11,67,85,56]\n",
    "list2 = sorted(list1)\n",
    "print(list1)\n",
    "print(list2)"
   ]
  },
  {
   "cell_type": "code",
   "execution_count": 35,
   "id": "d43a8cf1",
   "metadata": {},
   "outputs": [
    {
     "data": {
      "text/plain": [
       "284"
      ]
     },
     "execution_count": 35,
     "metadata": {},
     "output_type": "execute_result"
    }
   ],
   "source": [
    "# min()\n",
    "list1 = [34,12,63,39,92,44]\n",
    "min(list1)\n",
    "# max()\n",
    "list1 = [34,12,63,39,92,44]\n",
    "max(list1)\n",
    "# sum()\n",
    "list1 = [34,12,63,39,92,44]\n",
    "sum(list1)"
   ]
  },
  {
   "cell_type": "code",
   "execution_count": 37,
   "id": "c7d29e26",
   "metadata": {},
   "outputs": [
    {
     "name": "stdout",
     "output_type": "stream",
     "text": [
      "{1: 'rushi', 2: 'patil', 3: 'nitin'}\n",
      "patil\n"
     ]
    }
   ],
   "source": [
    "# dictionary \n",
    "dict1 = {1: 'rushi', 2: 'patil',3:'nitin'}\n",
    "print(dict1)\n",
    "print(dict1.get(2))"
   ]
  },
  {
   "cell_type": "code",
   "execution_count": null,
   "id": "a492bde8",
   "metadata": {},
   "outputs": [],
   "source": [
    "# In Python , there are four forms of the if ... else statement.\n",
    "# if statement\n",
    "# if .... else statement\n",
    "# if ... elif ....else statement\n",
    "# nested if"
   ]
  },
  {
   "cell_type": "code",
   "execution_count": 39,
   "id": "91ce699f",
   "metadata": {},
   "outputs": [
    {
     "name": "stdout",
     "output_type": "stream",
     "text": [
      "You can apply for license\n",
      "Speed thrills but Kills\n"
     ]
    }
   ],
   "source": [
    "  # if statement \n",
    "age =  int(input(\"Enter your age\"))\n",
    "if age > 18:\n",
    "    print(\"You can apply for license\")\n",
    "print(\"Speed thrills but Kills\")"
   ]
  },
  {
   "cell_type": "code",
   "execution_count": 41,
   "id": "8232c228",
   "metadata": {},
   "outputs": [
    {
     "name": "stdout",
     "output_type": "stream",
     "text": [
      "rushi\n"
     ]
    }
   ],
   "source": [
    "#hello \n",
    "print('rushi')"
   ]
  },
  {
   "cell_type": "code",
   "execution_count": null,
   "id": "96c17f0a",
   "metadata": {},
   "outputs": [
    {
     "name": "stdout",
     "output_type": "stream",
     "text": [
      "Itni jaldi bhi kya hai \n"
     ]
    }
   ],
   "source": [
    "# if else statement \n",
    "age = int(input(\"Enter your age\"))\n",
    "if age > 18:\n",
    "    print(\"Apply for the license\")\n",
    "else:\n",
    "    print(\"Itni jaldi bhi kya hai \")\n",
    "    #ok"
   ]
  },
  {
   "cell_type": "code",
   "execution_count": null,
   "id": "9f84661c",
   "metadata": {},
   "outputs": [
    {
     "name": "stdout",
     "output_type": "stream",
     "text": [
      "I am True\n"
     ]
    }
   ],
   "source": [
    "# If Else statement:\n",
    "\n",
    "if True:\n",
    "    print(\"I am True\")\n",
    "    \n",
    "if False:\n",
    "    ptint(\"I am False\")"
   ]
  },
  {
   "cell_type": "code",
   "execution_count": 3,
   "id": "d43305f1",
   "metadata": {},
   "outputs": [
    {
     "name": "stdout",
     "output_type": "stream",
     "text": [
      "The Number is satisfy Criteria\n"
     ]
    }
   ],
   "source": [
    "'''\n",
    "Logic:\n",
    "if <Condition>:\n",
    "    print(\"Output1\")\n",
    "else:\n",
    "    print(\"Output2\")\n",
    "    \n",
    "    \n",
    "'''\n",
    "num = 100\n",
    "\n",
    "if num >= 100:\n",
    "    print('The Number is satisfy Criteria')\n",
    "else:\n",
    "    print('Not satisfy the Criteria')\n",
    "    \n",
    "     "
   ]
  },
  {
   "cell_type": "code",
   "execution_count": 4,
   "id": "c1de6ec0",
   "metadata": {},
   "outputs": [
    {
     "ename": "ValueError",
     "evalue": "could not convert string to float: 'uku'",
     "output_type": "error",
     "traceback": [
      "\u001b[31m---------------------------------------------------------------------------\u001b[39m",
      "\u001b[31mValueError\u001b[39m                                Traceback (most recent call last)",
      "\u001b[36mCell\u001b[39m\u001b[36m \u001b[39m\u001b[32mIn[4]\u001b[39m\u001b[32m, line 12\u001b[39m\n\u001b[32m      1\u001b[39m \u001b[38;5;66;03m# Guessing the Number Game \u001b[39;00m\n\u001b[32m      2\u001b[39m \u001b[33;03m'''\u001b[39;00m\n\u001b[32m      3\u001b[39m \u001b[33;03mLogic:\u001b[39;00m\n\u001b[32m      4\u001b[39m \u001b[33;03mstep1: Enter the Number\u001b[39;00m\n\u001b[32m   (...)\u001b[39m\u001b[32m      8\u001b[39m \n\u001b[32m      9\u001b[39m \u001b[33;03m'''\u001b[39;00m\n\u001b[32m---> \u001b[39m\u001b[32m12\u001b[39m number = \u001b[38;5;28;43mfloat\u001b[39;49m\u001b[43m(\u001b[49m\u001b[38;5;28;43minput\u001b[39;49m\u001b[43m(\u001b[49m\u001b[33;43m'\u001b[39;49m\u001b[33;43mEnter the Number Betweeen 1 to 3:\u001b[39;49m\u001b[33;43m'\u001b[39;49m\u001b[43m)\u001b[49m\u001b[43m)\u001b[49m\n\u001b[32m     14\u001b[39m \u001b[38;5;28;01mif\u001b[39;00m number == \u001b[32m1\u001b[39m:\n\u001b[32m     15\u001b[39m     \u001b[38;5;28mprint\u001b[39m(\u001b[33m'\u001b[39m\u001b[33mThe Number is 1\u001b[39m\u001b[33m'\u001b[39m)\n",
      "\u001b[31mValueError\u001b[39m: could not convert string to float: 'uku'"
     ]
    }
   ],
   "source": [
    "# Guessing the Number Game \n",
    "'''\n",
    "Logic:\n",
    "step1: Enter the Number\n",
    "step2: Write Logic Code To guess the Correct Number\n",
    "step3: Output\n",
    "\n",
    "\n",
    "'''\n",
    "\n",
    "\n",
    "number = float(input('Enter the Number Betweeen 1 to 3:'))\n",
    "\n",
    "if number == 1:\n",
    "    print('The Number is 1')\n",
    "    \n",
    "if number == 2:\n",
    "        print('The Number is 2')\n",
    "        \n",
    "if number == 3:\n",
    "        print('The Number is 3')\n",
    "         "
   ]
  },
  {
   "cell_type": "code",
   "execution_count": null,
   "id": "48732388",
   "metadata": {},
   "outputs": [],
   "source": [
    "number = float(input())\n",
    "if number > 2:\n",
    "    print('The Enter Number is Higher Value')\n",
    "if number < 2:\n",
    "    print('The Enter Number is Lower Value')\n",
    "else:\n",
    "    print('The number is 2')"
   ]
  },
  {
   "cell_type": "code",
   "execution_count": null,
   "id": "e435b8a1",
   "metadata": {},
   "outputs": [],
   "source": [
    "if True:\n",
    "    if True:\n",
    "        if True:\n",
    "            print('Very Good')"
   ]
  },
  {
   "cell_type": "code",
   "execution_count": null,
   "id": "d4c647f0",
   "metadata": {},
   "outputs": [],
   "source": [
    "# Example: To Check whether the given string is palindrom or Not \n",
    "\n",
    "'''\n",
    "step1: Ask user to enter the string \n",
    "step2: reverse the string \n",
    "step3: use if else logic to print the output\n",
    "'''\n",
    "\n",
    "\n",
    "\n",
    "\n",
    "\n",
    "\n",
    "text1 = input('Enter the string: ')   # Assingment Operator\n",
    "text2 = text1[::-1]\n",
    "\n",
    "if text1 == text2:         # This is Comparison Operator\n",
    "    print('The given String is palindrom')\n",
    "else:\n",
    "    print('not a palindrom')    \n"
   ]
  },
  {
   "cell_type": "code",
   "execution_count": null,
   "id": "834145f7",
   "metadata": {},
   "outputs": [],
   "source": [
    "# Simple program using only multiple if statements\n",
    "\n",
    "score = int(input(\"Enter your score (out of 100): \"))\n",
    "\n",
    "if score >= 90:\n",
    "    print(\"Excellent\")\n",
    "\n",
    "if score >= 75 and score < 90:\n",
    "    print(\"Good\")\n",
    "\n",
    "if score < 75:\n",
    "    print(\"Satisfied\")\n"
   ]
  },
  {
   "cell_type": "code",
   "execution_count": null,
   "id": "3db16ab5",
   "metadata": {},
   "outputs": [],
   "source": [
    "# Program using only multiple if statements\n",
    "\n",
    "score = int(input(\"Enter your score (out of 100): \"))\n",
    "\n",
    "if score >= 90:\n",
    "    print(\"Excellent\")\n",
    "\n",
    "if score >= 75 and score < 90:\n",
    "    print(\"Good\")\n",
    "\n",
    "if score < 75:\n",
    "    print(\"Satisfied\")\n"
   ]
  },
  {
   "cell_type": "code",
   "execution_count": null,
   "id": "d21f5fa7",
   "metadata": {},
   "outputs": [
    {
     "name": "stdout",
     "output_type": "stream",
     "text": [
      "The Volume of Cylinder is 42.418350000000004  mm^3\n"
     ]
    }
   ],
   "source": [
    "#Example : Write a Program to Print Volume of Cylinder\n",
    "'''  \n",
    "Volume = Area * Height\n",
    "step1: Ask user to enter the Diameter of Cylinder\n",
    "step2: Ask user to enter the Height of Cylinder\n",
    "step3: Volume = Area * Height\n",
    "step4: print the desired output\n",
    "'''\n",
    "PI = 3.1421\n",
    "Diameter= float(input(\"Enter the Diameter of Cylinder:\"))\n",
    "Height= float(input(\"Enter the Height of Cylinder:\"))\n",
    "\n",
    "Volume =(PI/4)*(Diameter**2)* Height\n",
    "\n",
    "print(f'The Volume of Cylinder is {Volume}  mm^3')"
   ]
  },
  {
   "cell_type": "code",
   "execution_count": null,
   "id": "faf4b450",
   "metadata": {},
   "outputs": [
    {
     "name": "stdout",
     "output_type": "stream",
     "text": [
      "Bright\n"
     ]
    }
   ],
   "source": [
    "Marks = float(input(\"Enter the Marks:\"))\n",
    "if Marks>=90:\n",
    "    print('Excellent')\n",
    "elif Marks < 90 and Marks > 60:\n",
    "    print(\"Bright\")\n",
    "else:\n",
    "    print(\"Average\")"
   ]
  },
  {
   "cell_type": "code",
   "execution_count": null,
   "id": "a59f59b6",
   "metadata": {},
   "outputs": [
    {
     "name": "stdout",
     "output_type": "stream",
     "text": [
      "0\n",
      "1\n",
      "2\n",
      "3\n",
      "4\n",
      "5\n",
      "6\n",
      "7\n",
      "8\n",
      "9\n"
     ]
    }
   ],
   "source": [
    "#for loop\n",
    "#range(start,stop,step)\n",
    "for i in range(0,10):\n",
    "    print(i)"
   ]
  },
  {
   "cell_type": "code",
   "execution_count": null,
   "id": "63274dec",
   "metadata": {},
   "outputs": [
    {
     "name": "stdout",
     "output_type": "stream",
     "text": [
      "0\n",
      "2\n",
      "4\n",
      "6\n",
      "8\n"
     ]
    }
   ],
   "source": [
    "for i in range(0,10,2):\n",
    "    print(i)"
   ]
  },
  {
   "cell_type": "code",
   "execution_count": null,
   "id": "408d24a9",
   "metadata": {},
   "outputs": [
    {
     "name": "stdout",
     "output_type": "stream",
     "text": [
      "0 1 2 3 4 5 6 7 8 9 "
     ]
    }
   ],
   "source": [
    "for i in range(0,10):\n",
    "    print(i,end=' '\n",
    ")"
   ]
  },
  {
   "cell_type": "code",
   "execution_count": null,
   "id": "6fd009f5",
   "metadata": {},
   "outputs": [
    {
     "name": "stdout",
     "output_type": "stream",
     "text": [
      "\n",
      "*\n",
      "**\n",
      "***\n",
      "****\n",
      "*****\n",
      "******\n",
      "*******\n",
      "********\n",
      "*********\n"
     ]
    }
   ],
   "source": [
    "for i in range(10):\n",
    "    print('*'*i)\n",
    "    "
   ]
  },
  {
   "cell_type": "code",
   "execution_count": null,
   "id": "f7a4705a",
   "metadata": {},
   "outputs": [
    {
     "name": "stdout",
     "output_type": "stream",
     "text": [
      "1\n",
      "1\n",
      "1\n",
      "1\n",
      "1\n",
      "1\n",
      "1\n"
     ]
    }
   ],
   "source": [
    "for i in range(0,10):\n",
    "    print(1)\n",
    "    if i == 6:\n",
    "     break"
   ]
  },
  {
   "cell_type": "code",
   "execution_count": null,
   "id": "0d7cc371",
   "metadata": {},
   "outputs": [
    {
     "name": "stdout",
     "output_type": "stream",
     "text": [
      "1\n",
      "1\n",
      "1\n",
      "1\n",
      "1\n",
      "1\n",
      "1\n",
      "1\n",
      "1\n",
      "1\n"
     ]
    }
   ],
   "source": [
    "for i in range(0,10):\n",
    "    print(1)\n",
    "    if i == 6:\n",
    "     continue"
   ]
  },
  {
   "cell_type": "code",
   "execution_count": null,
   "id": "3baf0f26",
   "metadata": {},
   "outputs": [
    {
     "name": "stdout",
     "output_type": "stream",
     "text": [
      "1\n",
      "1\n",
      "1\n",
      "1\n",
      "1\n",
      "1\n",
      "1\n",
      "1\n",
      "1\n",
      "1\n"
     ]
    }
   ],
   "source": [
    "for i in range(0,10):\n",
    "    print(1)\n",
    "    if i == 6:\n",
    "        pass"
   ]
  },
  {
   "cell_type": "code",
   "execution_count": null,
   "id": "8c243e36",
   "metadata": {},
   "outputs": [],
   "source": [
    "#Example\n",
    "#Palindrom function definition\n",
    "def Palindrom():\n",
    "    text1 = input('Enter the string:')\n",
    "    text2 = text1[::-1]\n",
    "    if text1 == text2:\n",
    "       print(\"The given string is a Palindrome\") \n",
    "    else :\n",
    "        print(\"The given is not a Palindrom\")\n",
    "       \n",
    "    Palindrom() #Function Calling\n",
    "    "
   ]
  },
  {
   "cell_type": "code",
   "execution_count": null,
   "id": "0b58f670",
   "metadata": {},
   "outputs": [
    {
     "name": "stdout",
     "output_type": "stream",
     "text": [
      "The Answer is 300\n"
     ]
    }
   ],
   "source": [
    "# Example\n",
    "\n",
    "def Compute(num1,num2):\n",
    "    num3 = num1 + num2  \n",
    "    return num3 \n",
    "\n",
    "ans = Compute(100,200) # Function Calling\n",
    "\n",
    "print(f'The Answer is {ans}')"
   ]
  },
  {
   "cell_type": "code",
   "execution_count": null,
   "id": "4cbd9fad",
   "metadata": {},
   "outputs": [
    {
     "name": "stdout",
     "output_type": "stream",
     "text": [
      "30\n",
      "-10\n",
      "200\n",
      "0.5\n",
      "10\n",
      "0\n",
      "100000000000000000000\n",
      "hello world\n",
      "my name is rushikesh patil\n",
      "my class is TYBSC(COMP)\n"
     ]
    }
   ],
   "source": [
    "# Installing python and setting up enviroment. Simple statements like printing the names (\"Hello World\") numbers, mathematical calculations, etc.\n",
    "a=10\n",
    "b=20\n",
    "print(a+b)\n",
    "print(a-b)\n",
    "print(a*b)\n",
    "print(a/b)\n",
    "print(a%b)\n",
    "print(a//b)\n",
    "print(a**b)\n",
    "print(\"hello world\")\n",
    "print(\"my name is rushikesh patil\")\n",
    "print(\"my class is TYBSC(COMP)\")\n"
   ]
  },
  {
   "cell_type": "code",
   "execution_count": null,
   "id": "3a8f63de",
   "metadata": {},
   "outputs": [
    {
     "name": "stdout",
     "output_type": "stream",
     "text": [
      "prime numbers are:\n",
      "3\n",
      "5\n",
      "5\n",
      "5\n",
      "7\n",
      "7\n",
      "7\n",
      "7\n",
      "7\n",
      "9\n",
      "11\n",
      "11\n",
      "11\n",
      "11\n",
      "11\n",
      "11\n",
      "11\n",
      "11\n",
      "11\n",
      "13\n",
      "13\n",
      "13\n",
      "13\n",
      "13\n",
      "13\n",
      "13\n",
      "13\n",
      "13\n",
      "13\n",
      "13\n"
     ]
    }
   ],
   "source": [
    "# write a program to find all prime numbers within a given range.\n",
    "start = int(input(\"Enter start:\"))\n",
    "end = int(input(\"Enter end:\"))\n",
    "print(\"prime numbers are:\")\n",
    "for num in range(start, end +1):\n",
    "    if num>1:\n",
    "        for i in range(2,num):\n",
    "            if num % i==0:\n",
    "                break\n",
    "            else:\n",
    "                print(num)"
   ]
  },
  {
   "cell_type": "code",
   "execution_count": null,
   "id": "26a8002f",
   "metadata": {},
   "outputs": [
    {
     "name": "stdout",
     "output_type": "stream",
     "text": [
      "Fibonacci Series:\n",
      "0112358132134558914423337761098715972584418167651094617711286574636875025121393196418317811514229832040134626921783093524578570288792274651493035224157817390881696324598610233415516558014126791429643349443770140873311349031701836311903297121507348075269767778742049125862690252036501107432951280099533162911738626757127213958386244522585143371736543529616259128672987995672202604115480087559202504730781961405273953788165574703198421061020985772317167680177565277778900352884494557021285372723460248141117669030460994190392490709135308061521170129498454011879264806515533049393130496954492865721114850779780503416454622906707552793970088475789443943237914641447233402467622123416728348467685378890623731439066130579072161159199194853094755497160500643816367088259695496911122585420196140727489673679891637638612258110008777836610193117799794160047141892880067194370816120466004661037553030975401138047463464291220016041512187673819740274219868223167319404346349900999055168070885485832307283621143489848422977135301852344706746049218922995834555169026"
     ]
    }
   ],
   "source": [
    "# write a program to print \"n\" terms of Fibonacci Series using Iteration\n",
    "n = int(input(\"Enter number of terms:\"))\n",
    "a,b = 0,1 # first two terms\n",
    "print(\"Fibonacci Series:\")\n",
    "for i in range(n):\n",
    "    print(a, end=\"\")\n",
    "    a,b = b,a+b # update values"
   ]
  },
  {
   "cell_type": "code",
   "execution_count": null,
   "id": "6072029e",
   "metadata": {},
   "outputs": [
    {
     "name": "stdout",
     "output_type": "stream",
     "text": [
      "Uppercase: HELLO, PYTHON PROGRAMMING!\n",
      "Lowercase: hello, python programming!\n",
      "Replace 'python' with 'Java:' hello, python programming!\n",
      "index of 'programming': -1\n",
      "split by space: ['hello,', 'python', 'programming!']\n"
     ]
    }
   ],
   "source": [
    "# Program related to string manipulation\n",
    "text = \"hello, python programming!\"\n",
    "# convert to uppercase\n",
    "print(\"Uppercase:\", text.upper())\n",
    "#convert to lowercase\n",
    "print(\"Lowercase:\", text.lower())\n",
    "#replace a substring\n",
    "print(\"Replace 'python' with 'Java:'\",text.replace(\"Python\",\"java\"))\n",
    "#find a substring\n",
    "print(\"index of 'programming':\", text.find(\"Programming\"))\n",
    "#split the string\n",
    "print(\"split by space:\", text.split())\n",
    "#Strip whitespace(not needed here, but for demonstration)\n",
    "whitespace_text = \"Hello, World!\"\n"
   ]
  },
  {
   "cell_type": "code",
   "execution_count": null,
   "id": "111de4dd",
   "metadata": {},
   "outputs": [
    {
     "name": "stdout",
     "output_type": "stream",
     "text": [
      "square of 5: 25\n",
      "Squares: [1, 4, 9, 16, 25]\n",
      "Even numbers: [2, 4]\n",
      "Sum of numbers: 15\n",
      "Triple each numbe: [3, 6, 9, 12, 15]\n"
     ]
    }
   ],
   "source": [
    "#Write a program that demonstrate concept of functional programming\n",
    "from functools import reduce\n",
    "#1.Using lambda(anonymous function)\n",
    "square = lambda x: x* x\n",
    "print(\"square of 5:\", square(5))\n",
    "#2. map() applies fuction to each element\n",
    "numbers = [1,2,3,4,5]\n",
    "squares= list(map(lambda x:x*x, numbers))\n",
    "print(\"Squares:\", squares)\n",
    "#3. filter() filters elements based on condition\n",
    "evens = list(filter(lambda x:x %2==0, numbers))\n",
    "print(\"Even numbers:\", evens)\n",
    "#4. reduce() reduces list to single value\n",
    "sum_of_numbers = reduce(lambda a, b: a+b, numbers)\n",
    "print(\"Sum of numbers:\",sum_of_numbers)\n",
    "#5. Higher-order function (function arguments)\n",
    "def apply_function(func, values):\n",
    "    return [func(x) for x in values]\n",
    "result = apply_function(lambda x: x*3, numbers)\n",
    "print(\"Triple each numbe:\",result)"
   ]
  },
  {
   "cell_type": "code",
   "execution_count": null,
   "id": "2ff18896",
   "metadata": {},
   "outputs": [
    {
     "name": "stdout",
     "output_type": "stream",
     "text": [
      "Orignal list: ['apple', 'banana', 'cherry']\n",
      "first element: apple\n",
      "last element: cherry\n",
      "After append: ['apple', 'banana', 'cherry', 'orange']\n",
      "after remove: ['apple', 'cherry', 'orange']\n",
      "popped element: orange\n",
      "after pop: ['apple', 'cherry']\n",
      "Length of list: 2\n",
      "Sorted list: ['apple', 'cherry']\n",
      "Reversed list: ['cherry', 'apple']\n",
      "index of'apple': 0\n",
      "First two elements: ['apple', 'cherry']\n",
      "Last two elements: ['apple', 'cherry']\n",
      "Copied list: ['apple', 'cherry']\n",
      "After clear: []\n"
     ]
    }
   ],
   "source": [
    "# write a program to demonstrate the use of list &  realated fuctions.\n",
    "#creating list\n",
    "fruits = [\"apple\", \"banana\", \"cherry\"]\n",
    "print(\"Orignal list:\",fruits)\n",
    "#Accesing elements\n",
    "print(\"first element:\", fruits[0])\n",
    "print(\"last element:\", fruits[-1])\n",
    "#adding elements\n",
    "fruits.append(\"orange\")    #at the end \n",
    "print(\"After append:\", fruits)\n",
    "#Removing elements\n",
    "fruits.remove (\"banana\") # remove by value\n",
    "print(\"after remove:\",fruits)\n",
    "popped= fruits.pop() # remove last element\n",
    "print(\"popped element:\",popped)\n",
    "print(\"after pop:\", fruits)\n",
    "#List fuctions\n",
    "print(\"Length of list:\", len(fruits))\n",
    "print(\"Sorted list:\",sorted(fruits))\n",
    "print(\"Reversed list:\", list(reversed(fruits)))\n",
    "print(\"index of'apple':\",fruits.index(\"apple\"))\n",
    "#slicing\n",
    "print(\"First two elements:\", fruits[:2])\n",
    "print(\"Last two elements:\", fruits[-2:])\n",
    "#Copying list\n",
    "copy_list = fruits.copy()\n",
    "print(\"Copied list:\", copy_list)\n",
    "# Clearing lsit\n",
    "fruits.clear()\n",
    "print(\"After clear:\", fruits)\n"
   ]
  },
  {
   "cell_type": "code",
   "execution_count": null,
   "id": "d816e22c",
   "metadata": {},
   "outputs": [
    {
     "name": "stdout",
     "output_type": "stream",
     "text": [
      "Orignal Dictonary: {'name': 'python', 'age': 30, 'course': 'Computer Science'}\n",
      "Name: python\n",
      "Age: python\n",
      "Age: 30\n",
      "After adding/updating: {'name': 'python', 'age': 21, 'course': 'Computer Science', 'grade': 'A'}\n",
      "after pop: {'name': 'python', 'age': 21, 'grade': 'A'}\n",
      "Removed item: ('grade', 'A')\n",
      "After popitem: {'name': 'python', 'age': 21}\n",
      "Keys: dict_keys(['name', 'age'])\n",
      "values: dict_values(['python', 21])\n",
      "items: dict_items([('name', 'python'), ('age', 21)])\n",
      "copied dictionary: {'name': 'python', 'age': 21}\n"
     ]
    }
   ],
   "source": [
    "#write a program to demonstrate the use of list & related functions\n",
    "#creating a dictionary\n",
    "student = {\"name\": \"python\",\"age\":30,\"course\":\"Computer Science\"}\n",
    "print(\"Orignal Dictonary:\", student)\n",
    "#Accessing elements\n",
    "print(\"Name:\", student[\"name\"])\n",
    "print(\"Age:\", student[\"name\"])\n",
    "print(\"Age:\",student.get(\"age\"))\n",
    "#adding/updating elements\n",
    "student[\"grade\"]=\"A\"  # Add new key-value pair\n",
    "student[\"age\"] = 21   # update existing key\n",
    "print(\"After adding/updating:\", student)\n",
    "#Removing elements\n",
    "student.pop(\"course\")  #remove by key\n",
    "print(\"after pop:\",student)\n",
    "removed_item = student.popitem() # remove last inserted item\n",
    "print(\"Removed item:\", removed_item)\n",
    "print(\"After popitem:\",student)\n",
    "#Dictionary fuctions\n",
    "print(\"Keys:\", student.keys())\n",
    "print(\"values:\",student.values())\n",
    "print(\"items:\", student.items())\n",
    "#copying dictionary \n",
    "copy_student = student.copy()\n",
    "print(\"copied dictionary:\", copy_student)\n"
   ]
  },
  {
   "cell_type": "code",
   "execution_count": null,
   "id": "58263d3d",
   "metadata": {},
   "outputs": [
    {
     "name": "stdout",
     "output_type": "stream",
     "text": [
      "Orignal Tuple: ('apple', 'banana', 'cherry', 'banana')\n",
      "First element: apple\n",
      "Last element: banana\n",
      "slicing(1 to 3): ('banana', 'cherry')\n",
      "Length of tuple: 4\n",
      "count of 'banana': 2\n",
      "Index of 'cherry': 2\n",
      "Repeated tuple: (4, 5, 4, 5, 4, 5)\n",
      "'apple' is in tuple\n",
      "Modified list: ['apple', 'banana', 'cherry', 'banana', 'orange']\n"
     ]
    }
   ],
   "source": [
    "# write a program demonstrate use of tuple\n",
    "# Creating a tuple\n",
    "fruits = (\"apple\",\"banana\", \"cherry\",\"banana\")\n",
    "print(\"Orignal Tuple:\", fruits)\n",
    "#Accessing elements\n",
    "print(\"First element:\", fruits[0])\n",
    "print(\"Last element:\", fruits[-1])\n",
    "print(\"slicing(1 to 3):\", fruits[1:3])\n",
    "#tuple opreations\n",
    "print(\"Length of tuple:\", len(fruits))\n",
    "print(\"count of 'banana':\", fruits.count(\"banana\"))\n",
    "print(\"Index of 'cherry':\",fruits.index(\"cherry\"))\n",
    "# tuple concatenation\n",
    "t1= (1,2,3)\n",
    "t2=(4,5)\n",
    "t3= t1+t2\n",
    "print(\"Repeated tuple:\", t2*3)\n",
    "#checking membership\n",
    "if \"apple\" in fruits:\n",
    "    print(\"'apple' is in tuple\")\n",
    "    #converting tuple to list (to modify)\n",
    "    fruit_list = list(fruits)\n",
    "    fruit_list = list(fruits)\n",
    "    fruit_list.append(\"orange\")\n",
    "    print(\"Modified list:\", fruit_list)"
   ]
  },
  {
   "cell_type": "code",
   "execution_count": null,
   "id": "5c8efbbf",
   "metadata": {},
   "outputs": [
    {
     "data": {
      "text/plain": [
       "24.0"
      ]
     },
     "execution_count": 17,
     "metadata": {},
     "output_type": "execute_result"
    }
   ],
   "source": [
    "\n",
    "# fibbonaci series : 0 1 1 2 3 5 8 13.....\n",
    "# factorial series : 4! = 4*3*2*1= 24\n",
    "def factorial(n):\n",
    "    if n==0 or n==1:\n",
    "        return 1 \n",
    "    else:\n",
    "        return n * factorial(n-1)\n",
    "number = float(input(\"Enter the number:\"))   \n",
    "factorial(number)"
   ]
  },
  {
   "cell_type": "code",
   "execution_count": null,
   "id": "de2be80c",
   "metadata": {},
   "outputs": [
    {
     "name": "stdout",
     "output_type": "stream",
     "text": [
      "Fibonacci Series:\n",
      "0112358132134558914423337761098715972584418167651094617711286574636875025121393196418317811514229832040134626921783093524578570288792274651493035224157817390881696324598610233415516558014126791429643349443770140873311349031701836311903297121507348075269767778742049125862690252036501107432951280099533162911738626757127213958386244522585143371736543529616259128672987995672202604115480087559202504730781961405273953788165574703198421061020985772317167680177565277778900352884494557021285372723460248141117669030460994190392490709135308061521170129498454011879264806515533049393130496954492865721114850779780503416454622906707552793970088475789443943237914641447233402467622123416728348467685378890623731439066130579072161159199194853094755497160500643816367088259695496911122585420196140727489673679891637638612258110008777836610193117799794160047141892880067194370816120466004661037553030975401138047463464291220016041512187673819740274219868223167319404346349900999055168070885485832307283621143489848422977135301852344706746049218922995834555169026"
     ]
    }
   ],
   "source": [
    "#fibbonaci series :\n",
    "n= int(input(\"enter the number of terms:\"))\n",
    "a,b = 0,1 # first two terms\n",
    "print(\"Fibonacci Series:\")\n",
    "for i in range(n):\n",
    "    print(a, end=\"\")\n",
    "    a,b = b,a+b # update values"
   ]
  },
  {
   "cell_type": "code",
   "execution_count": null,
   "id": "c5bb254e",
   "metadata": {},
   "outputs": [
    {
     "name": "stdout",
     "output_type": "stream",
     "text": [
      "ello welcome to the\n",
      "Hlowloet h ol\n",
      ".gnimmar\n",
      "hsekihsuR\n"
     ]
    }
   ],
   "source": [
    "# Concept of Indexing and Slicing\n",
    "\n",
    "str = 'Hello welcome to the world of python programming.'\n",
    "\n",
    "'''\n",
    "Note:\n",
    "string indexing : string[start:stop:step]\n",
    "'''\n",
    "print(str[1:20:1])\n",
    "print(str[0:25:2])\n",
    "print(str[-1:-9:-1])\n",
    "str = 'Rushikesh'\n",
    "print(str[::-1])"
   ]
  },
  {
   "cell_type": "code",
   "execution_count": null,
   "id": "54576ce4",
   "metadata": {},
   "outputs": [
    {
     "name": "stdout",
     "output_type": "stream",
     "text": [
      "[1, 2, 3, 100.2, 3.1421, (3+4j), 'Hello World', True, [1, 2, 3], 100]\n",
      "[0, 1, 2, 3, 100.2, 3.1421, (3+4j), 'Hello World', True, [1, 2, 3], 100]\n"
     ]
    }
   ],
   "source": [
    "# Data Structure of Python programming\n",
    "'''\n",
    "1. List\n",
    "2. Tuple\n",
    "3. Dictionary\n",
    "4. Sets\n",
    "'''\n",
    "# List\n",
    "\n",
    "a = [1,2,3,100.2000,3.1421, 3+4j,'Hello World',True,[1,2,3]]\n",
    "a.append(100)\n",
    "print(a)\n",
    "a.insert(0,0)\n",
    "print(a)\n"
   ]
  },
  {
   "cell_type": "code",
   "execution_count": null,
   "id": "15a92959",
   "metadata": {},
   "outputs": [
    {
     "name": "stdout",
     "output_type": "stream",
     "text": [
      "[0, 1, 2, 3, 100.2, 3.1421, (3+4j), 'Hello World', True, [1, 2, 3]]\n"
     ]
    }
   ],
   "source": [
    "a.pop()\n",
    "print(a)"
   ]
  },
  {
   "cell_type": "code",
   "execution_count": null,
   "id": "4c93ab20",
   "metadata": {},
   "outputs": [
    {
     "name": "stdout",
     "output_type": "stream",
     "text": [
      "[1, 2, 3, 100.2, 3.1421, (3+4j), 'Hello World', True, [1, 2, 3]]\n"
     ]
    }
   ],
   "source": [
    "a.remove(0)\n",
    "print(a)"
   ]
  },
  {
   "cell_type": "code",
   "execution_count": null,
   "id": "29bc2d34",
   "metadata": {},
   "outputs": [
    {
     "name": "stdout",
     "output_type": "stream",
     "text": [
      "2\n",
      "<class 'list'>\n"
     ]
    }
   ],
   "source": [
    "'''\n",
    "Any Function to defined inside a class called as Method\n",
    "Example: In a list a = [100,200,300]\n",
    "a.append(400)\n",
    "here, append() is fuction, but this function is defined inside a class list so it is called Method\n",
    "\n",
    "\n",
    "'''\n",
    "\n",
    "\n",
    "\n",
    "\n",
    "print(a.count(1))\n",
    "print(type(a))"
   ]
  },
  {
   "cell_type": "code",
   "execution_count": null,
   "id": "1eb9b509",
   "metadata": {},
   "outputs": [
    {
     "name": "stdout",
     "output_type": "stream",
     "text": [
      "[1000, 2000, 3000, 5000, 6000]\n"
     ]
    }
   ],
   "source": [
    "lst = [1000,5000,6000,2000,3000]\n",
    "lst.sort()\n",
    "print(lst)"
   ]
  },
  {
   "cell_type": "code",
   "execution_count": null,
   "id": "84616c07",
   "metadata": {},
   "outputs": [
    {
     "name": "stdout",
     "output_type": "stream",
     "text": [
      "[6000, 5000, 3000, 2000, 1000]\n"
     ]
    }
   ],
   "source": [
    "lst.reverse()\n",
    "print(lst)"
   ]
  },
  {
   "cell_type": "code",
   "execution_count": null,
   "id": "fb4cc409",
   "metadata": {},
   "outputs": [
    {
     "name": "stdout",
     "output_type": "stream",
     "text": [
      "I SAGetCut\n",
      "rica Nic\n"
     ]
    }
   ],
   "source": [
    "str = 'INDIA IS A Great Country'\n",
    "print(str[3:-2:2])\n",
    "str = 'America Nice'\n",
    "print(str[-9:-1:])\n"
   ]
  },
  {
   "cell_type": "code",
   "execution_count": 5,
   "id": "eb4f65c1",
   "metadata": {},
   "outputs": [
    {
     "name": "stdout",
     "output_type": "stream",
     "text": [
      "50\n"
     ]
    }
   ],
   "source": [
    "class first:\n",
    "    x=50\n",
    "obj = first()\n",
    "print(obj.x)"
   ]
  },
  {
   "cell_type": "code",
   "execution_count": 7,
   "id": "3d8381a0",
   "metadata": {},
   "outputs": [
    {
     "name": "stdout",
     "output_type": "stream",
     "text": [
      "faculty id: 2\n",
      "faculty name: dadu\n",
      "faculty salary 50000.0\n"
     ]
    }
   ],
   "source": [
    "class faculty:\n",
    "    def putdata(self):   #method 1\n",
    "        self.id = int(input(\"enter faculty id\"))\n",
    "        self.name = input(\"enter name\")\n",
    "        self.salary = float(input(\"Enter the salary\"))\n",
    "    def display(self):\n",
    "        print(\"faculty id:\", self.id)\n",
    "        print(\"faculty name:\", self.name)\n",
    "        print(\"faculty salary\", self.salary)\n",
    "        \n",
    "a = faculty()\n",
    "a. putdata()\n",
    "a.display()       "
   ]
  },
  {
   "cell_type": "code",
   "execution_count": 10,
   "id": "8f84b425",
   "metadata": {},
   "outputs": [
    {
     "name": "stdout",
     "output_type": "stream",
     "text": [
      "Rushi\n",
      "70.0\n"
     ]
    }
   ],
   "source": [
    "class Student:\n",
    "    def __init__(self,my_roll,my_name,my_marks):\n",
    "        self.rollno = my_roll\n",
    "        self.name = my_name\n",
    "        self.marks = my_marks\n",
    "    def average(self):\n",
    "        return sum(self.marks)/len(self.marks)\n",
    "    \n",
    "first_student = Student(1,'Rushi',[50,60,70,80,90])\n",
    "print(first_student.name)\n",
    "print(first_student.average())\n",
    "\n",
    "\n"
   ]
  },
  {
   "cell_type": "code",
   "execution_count": null,
   "id": "bb36ca41",
   "metadata": {},
   "outputs": [
    {
     "name": "stdout",
     "output_type": "stream",
     "text": [
      "employee id: 1\n",
      "employee name: rahul\n",
      "employee salary 25000.0\n"
     ]
    }
   ],
   "source": [
    "class employee:\n",
    "    def putdata(self):     # method 1\n",
    "        self.id= int(input(\"enter employee id\"))\n",
    "        self.name = input(\"enter employee name\")\n",
    "    \n",
    "        self.salary= float(input(\"enter employee salary\"))\n",
    "    def display(self):    # method 2 \n",
    "        print(\"employee id:\",self.id)\n",
    "        print(\"employee name:\",self.name)\n",
    "        print(\"employee salary\",self.salary)\n",
    "a=employee()\n",
    "a.putdata()\n",
    "a.display()\n",
    "        "
   ]
  },
  {
   "cell_type": "code",
   "execution_count": null,
   "id": "1884e17d",
   "metadata": {},
   "outputs": [],
   "source": [
    "class Employee:    # class Definition\n",
    "    pass\n",
    "\n",
    "\n",
    "\n",
    "\n",
    "emp1 = Employee()     # Object Definition\n",
    "emp2 = Employee()     # Object Definition\n"
   ]
  },
  {
   "cell_type": "code",
   "execution_count": null,
   "id": "5ed1f2e4",
   "metadata": {},
   "outputs": [
    {
     "name": "stdout",
     "output_type": "stream",
     "text": [
      "<class '__main__.Employee'>\n"
     ]
    }
   ],
   "source": [
    "print(type(emp1))"
   ]
  },
  {
   "cell_type": "code",
   "execution_count": null,
   "id": "22a9caf5",
   "metadata": {},
   "outputs": [
    {
     "name": "stdout",
     "output_type": "stream",
     "text": [
      "It Vedant\n",
      "1900\n",
      "Gaurav\n",
      "IT\n",
      "25\n",
      "Rushikesh\n",
      "19\n",
      "Finance\n"
     ]
    }
   ],
   "source": [
    "class Employee:   # class Definition\n",
    "    \n",
    "    # Define Attributes  : # class variable\n",
    "    Company_Name = \"It Vedant\"\n",
    "    Company_Est = \"1900\"\n",
    "    \n",
    "    # Define Constructor\n",
    "    def __init__(self,Name,Age,Position):\n",
    "        self.Name = Name       #instant variable\n",
    "        self.Age = Age\n",
    "        self.Position = Position\n",
    "\n",
    "emp1 = Employee (\"Gaurav\",25,\"IT\")     # Object Definition\n",
    "emp2 = Employee (\"Rushikesh\",19,\"Finance\")     #Object Definition\n",
    "\n",
    "print(emp1.Company_Name)   # Calling attribute Company_Name by an Object emp1 by using . Operator\n",
    "print(emp2.Company_Est)\n",
    "print(emp1.Name)\n",
    "print(emp1.Position)\n",
    "print(emp1.Age)\n",
    "print(emp2.Name)\n",
    "print(emp2.Age)\n",
    "print(emp2.Position)\n",
    "        \n",
    "        "
   ]
  },
  {
   "cell_type": "code",
   "execution_count": null,
   "id": "85fea068",
   "metadata": {},
   "outputs": [
    {
     "name": "stdout",
     "output_type": "stream",
     "text": [
      "Name: Sangam\n",
      "Name: Rushikesh\n",
      "Age: 30\n"
     ]
    }
   ],
   "source": [
    "class Employee:\n",
    "    # Define Attributes:  # class Variables\n",
    "    Company_Name = \"It Vedant\"\n",
    "    Company_Est = \"1900\"\n",
    "\n",
    "    # Define Instance Method : with Instance Variables\n",
    "    def __init__(self, name, age, position):\n",
    "        self.name = name\n",
    "        self.age = age\n",
    "        self.position = position\n",
    "\n",
    "    def details(self):\n",
    "        print(f'Name: {self.name}')\n",
    "\n",
    "    def age1(self):\n",
    "        print(f'Age: {self.age}')\n",
    "\n",
    "\n",
    "# Create Two Objects: employee and manager\n",
    "employee = Employee(\"Sangam\", 30, \"IT\")\n",
    "manager = Employee(\"Rushikesh\", 19, \"Manager\")\n",
    "\n",
    "employee.details()\n",
    "manager.details()\n",
    "employee.age1()\n"
   ]
  },
  {
   "cell_type": "code",
   "execution_count": null,
   "id": "84ef6fa7",
   "metadata": {},
   "outputs": [
    {
     "name": "stdout",
     "output_type": "stream",
     "text": [
      "Name: Sangam\n",
      "Name: Rushikesh\n",
      "Age:  30\n"
     ]
    }
   ],
   "source": [
    "class Employee:\n",
    "    Company_Name = \"It Vedant\"\n",
    "    Company_Est = \"1900\"\n",
    "    def __init__(self, name, age , position):\n",
    "        self.name = name\n",
    "        self.age = age\n",
    "        self.position = position\n",
    "    def details(self):\n",
    "     print(f'Name: {self.name}')\n",
    "    def age1(self):\n",
    "        print(f'Age:  {self.age}')   \n",
    "\n",
    "employee = Employee (\"Sangam\", 30, \"IT\")\n",
    "manager = Employee(\"Rushikesh\", 19,\"Manager\")\n",
    "\n",
    "employee.details()\n",
    "manager.details()\n",
    "employee.age1()\n",
    "#ok"
   ]
  },
  {
   "cell_type": "code",
   "execution_count": null,
   "id": "1dee6b00",
   "metadata": {},
   "outputs": [
    {
     "name": "stdout",
     "output_type": "stream",
     "text": [
      "Tathagat\n",
      "name: Tathagat\n",
      "None\n",
      "name:Pragya\n",
      "department:HR\n",
      "None\n",
      "Pragya\n"
     ]
    }
   ],
   "source": [
    "# Inheritance \n",
    "\n",
    "class Employee:   #parent class\n",
    "     #Define  Special Function: Constructor\n",
    "     def __init__(self,name,age,position):\n",
    "         #Define Instance Variables \n",
    "         self.name = name\n",
    "         self.age = age\n",
    "         self.position = position\n",
    "    #Define Class Method : details\n",
    "     def details(self):\n",
    "         print(f'name: {self.name}')\n",
    "class Manager(Employee):  #child Class\n",
    "    \n",
    "    #Define special Function : Constructor\n",
    "     def __init__(self,name,age,position,department):\n",
    "        super().__init__(name,age,position) # Calling Instance and Methods using super()\n",
    "        self.department = department\n",
    "        \n",
    "        # Define Class method : Department details\n",
    "     def department_details(self):\n",
    "            print(f'name:{self.name}')\n",
    "            print(f'department:{self.department}')\n",
    "\n",
    "# Define Objects:\n",
    "\n",
    "m1 = Employee(\"Tathagat\",29,\"HR\")\n",
    "m2 = Manager(\"Pragya\",26,\"Senior Team Lead\",\"HR\")\n",
    "print(m1.name)\n",
    "print(m1.details())\n",
    "print(m2.department_details())\n",
    "print(m2.name)\n"
   ]
  },
  {
   "cell_type": "code",
   "execution_count": null,
   "id": "1163adde",
   "metadata": {},
   "outputs": [],
   "source": [
    "class Car:  #Parent Class\n",
    "    # Define Constructor\n",
    "    def __init__(self,enginetype,color,wheels):\n",
    "        self.wheels = wheels\n",
    "        self.color = color\n",
    "        self.enginetype = enginetype\n",
    "    \n",
    "    #Class Function : Method\n",
    "    def mileage(self):\n",
    "        self.mileage = 30\n",
    "        print(self.mileage)\n",
    "BMW = Car(\"Petrol\",\"Maroon\",\"4\")\n",
    "\n",
    "class PetrolCar(Car):\n",
    "    def __init__(self,enginetype,wheels,color):\n",
    "        super().__init__(self,enginetype,wheels,color)\n",
    "        self.enginetype = \"Petrol\"\n",
    "        self.wheels = \"4\"\n",
    "        self.color = \"Red\"\n",
    "        \n",
    "    def Sound(self):\n",
    "        print('Peeeeeeeeep')\n",
    "              \n",
    "\n",
    "class DieselCar(Car):\n",
    "    def __init__(self,enginetype,wheels,color):\n",
    "        super().__init__(self,enginetype,wheels,color)\n",
    "        self.enginetype = \"Diesel\"\n",
    "        self.wheels = \"4\"\n",
    "        self.color = \"White\"\n",
    "        \n",
    "    def Sound(self):\n",
    "        print('Poooomp')\n",
    "\n",
    "class EVCar(Car):\n",
    "    def __init__(self,enginetype,wheels,color):\n",
    "        super().__init__(self,enginetype,wheels,color)\n",
    "        self.enginetype = \"EV\"\n",
    "        self.wheels = \"4\"\n",
    "        self.color = \"Blue\"\n",
    "        \n",
    "    def Sound(self):\n",
    "        print('no sound')\n",
    "\n"
   ]
  },
  {
   "cell_type": "code",
   "execution_count": null,
   "id": "9b2edad8",
   "metadata": {},
   "outputs": [
    {
     "name": "stdout",
     "output_type": "stream",
     "text": [
      "Mileage: 30\n",
      "\n",
      "Petrol Car: Petrol Red 4\n",
      "Peeeeeeeeep\n",
      "\n",
      "Diesel Car: Diesel White 4\n",
      "Poooomp\n",
      "\n",
      "EV Car: EV Blue 4\n",
      "No Sound\n"
     ]
    }
   ],
   "source": [
    "class Car:  # Parent Class\n",
    "    # Define Constructor\n",
    "    def __init__(self, enginetype, color, wheels):\n",
    "        self.enginetype = enginetype\n",
    "        self.color = color\n",
    "        self.wheels = wheels\n",
    "\n",
    "    # Class Function : Method\n",
    "    def mileage(self):\n",
    "        self.mileage_value = 30\n",
    "        print(\"Mileage:\", self.mileage_value)\n",
    "\n",
    "\n",
    "# Parent class object\n",
    "BMW = Car(\"Petrol\", \"Maroon\", \"4\")\n",
    "BMW.mileage()\n",
    "\n",
    "# Child Class 1\n",
    "class PetrolCar(Car):\n",
    "    def __init__(self):\n",
    "        super().__init__(\"Petrol\", \"Red\", \"4\")\n",
    "\n",
    "    def Sound(self):\n",
    "        print(\"Peeeeeeeeep\")\n",
    "\n",
    "\n",
    "# Child Class 2\n",
    "class DieselCar(Car):\n",
    "    def __init__(self):\n",
    "        super().__init__(\"Diesel\", \"White\", \"4\")\n",
    "\n",
    "    def Sound(self):\n",
    "        print(\"Poooomp\")\n",
    "\n",
    "\n",
    "# Child Class 3\n",
    "class EVCar(Car):\n",
    "    def __init__(self):\n",
    "        super().__init__(\"EV\", \"Blue\", \"4\")\n",
    "\n",
    "    def Sound(self):\n",
    "        print(\"No Sound\")\n",
    "\n",
    "\n",
    "# Create objects of child classes\n",
    "p = PetrolCar()\n",
    "d = DieselCar()\n",
    "e = EVCar()\n",
    "\n",
    "# Display their details\n",
    "print(\"\\nPetrol Car:\", p.enginetype, p.color, p.wheels)\n",
    "p.Sound()\n",
    "\n",
    "print(\"\\nDiesel Car:\", d.enginetype, d.color, d.wheels)\n",
    "d.Sound()\n",
    "\n",
    "print(\"\\nEV Car:\", e.enginetype, e.color, e.wheels)\n",
    "e.Sound()\n"
   ]
  },
  {
   "cell_type": "code",
   "execution_count": null,
   "id": "4c3af035",
   "metadata": {},
   "outputs": [
    {
     "name": "stdout",
     "output_type": "stream",
     "text": [
      "Enter amount to deposit in Vaibhav's NRI Account:\n",
      "₹10000.0 credited to Vaibhav's account. Current balance: ₹10000.0\n",
      "\n",
      "--- Account Details ---\n",
      "Name: Vaibhav\n",
      "Account Type: NRI Account\n",
      "Balance: ₹10000.0\n"
     ]
    }
   ],
   "source": [
    "'''\n",
    "class Bank:\n",
    "    # class variables :\n",
    "    1. Balance_amount = 100000\n",
    "    2. Credited_Amount \n",
    "    3. Withdraw_Amount\n",
    "    \n",
    "    #Different Account types\n",
    "    1. NRI Account\n",
    "    2. Saving Account\n",
    "    3. Current Account\n",
    "    \n",
    "    #Objects:\n",
    "    1. Vaibhav : NRI Acc\n",
    "    2. Sangam : Saving Acc\n",
    "    3. Gaurav : Current  Acc\n",
    "    \n",
    " '''   \n",
    "class Bank:\n",
    "       # class variable (common for all)\n",
    "    bank_balance = 100000\n",
    "\n",
    "    def __init__(self, name, account_type):\n",
    "        self.name = name\n",
    "        self.account_type = account_type\n",
    "        self.balance = 0  # individual account balance\n",
    "\n",
    "    # deposit method\n",
    "    def deposit(self, amount):\n",
    "        self.balance += amount\n",
    "        Bank.bank_balance += amount\n",
    "        print(f\"₹{amount} credited to {self.name}'s account. Current balance: ₹{self.balance}\")\n",
    "\n",
    "    # withdraw method\n",
    "    def withdraw(self, amount):\n",
    "        if amount <= self.balance:\n",
    "            self.balance -= amount\n",
    "            Bank.bank_balance -= amount\n",
    "            print(f\"₹{amount} withdrawn from {self.name}'s account. Remaining balance: ₹{self.balance}\")\n",
    "        else:\n",
    "            print(\"Insufficient balance!\")\n",
    "\n",
    "    # display method\n",
    "    def display_details(self):\n",
    "        print(\"\\n--- Account Details ---\")\n",
    "        print(f\"Name: {self.name}\")\n",
    "        print(f\"Account Type: {self.account_type}\")\n",
    "        print(f\"Balance: ₹{self.balance}\")\n",
    "\n",
    "\n",
    "# --- Objects for accounts ---\n",
    "Vaibhav = Bank(\"Vaibhav\", \"NRI Account\")\n",
    "sangam = Bank(\"Sangam\", \"Saving Account\")\n",
    "gaurav = Bank(\"Gaurav\", \"Current Account\")\n",
    "\n",
    "# --- User input to add money in Vaibhav's account ---\n",
    "print(\"Enter amount to deposit in Vaibhav's NRI Account:\")\n",
    "amount = float(input(\" Enter the Amount: \"))  # for example, enter 5000\n",
    "Vaibhav.deposit(amount)\n",
    "\n",
    "# Display updated details\n",
    "Vaibhav.display_details()\n"
   ]
  },
  {
   "cell_type": "code",
   "execution_count": 4,
   "id": "f1545df9",
   "metadata": {},
   "outputs": [
    {
     "name": "stdout",
     "output_type": "stream",
     "text": [
      "Account Holder: Rushikesh patil\n",
      "Current Balance: 5000\n",
      "\n",
      "1500 withdrawn successfully from Current Account.\n",
      "2000 credited successfully to Current Account.\n",
      "Account Holder: Rushikesh patil\n",
      "Current Balance: 5500\n",
      "\n",
      "Account Holder: Sneha Patil\n",
      "Current Balance: 8000\n",
      "\n",
      "3000 withdrawn successfully from Saving Account.\n",
      "1000 credited successfully to Saving Account.\n",
      "Account Holder: Sneha Patil\n",
      "Current Balance: 6000\n",
      "\n"
     ]
    }
   ],
   "source": [
    "# parent class \n",
    "class Bank:\n",
    "    def __init__(self, account_holder, balance=0):   #constructor\n",
    "        \n",
    "        self.account_holder = account_holder   #insatance variable 1\n",
    "        self.balance = balance                 #Insatance variable 2\n",
    "    def show_balance(self):         #  class method\n",
    "        \n",
    "        print(f\"Account Holder: {self.account_holder}\")\n",
    "        print(f\"Current Balance: {self.balance}\\n\")\n",
    "# Child class: CurrentAccount\n",
    "\n",
    "class CurrentAccount(Bank):\n",
    "    def withdraw_amount(self,amount):              # Child class method\n",
    "        \n",
    "        if amount <= self.balance:\n",
    "            self.balance -= amount\n",
    "            print(f\"{amount} withdrawn successfully from Current Account.\")\n",
    "        else:\n",
    "            print(\"Insufficient balance.\") \n",
    "    def credit_amount(self, amount):\n",
    "        self.balance += amount\n",
    "        print(f\"{amount} credited successfully to Current Account.\")\n",
    "        \n",
    "    # child class: SavingAccount\n",
    "class SavingAccount(Bank):\n",
    "    def withdrawn_amount(self, amount):\n",
    "        \n",
    "        if amount <= self.balance:\n",
    "            self.balance -= amount\n",
    "            print(f\"{amount} withdrawn successfully from Saving Account.\")\n",
    "        else:\n",
    "            print(\"Insufficient balance.\")\n",
    "    def credit_amount(self, amount):\n",
    "        self.balance += amount\n",
    "        print(f\"{amount} credited successfully to Saving Account.\")\n",
    " \n",
    " # Example Usage \n",
    " \n",
    "ca = CurrentAccount(\"Rushikesh patil\", 5000)\n",
    "ca.show_balance()\n",
    "ca.withdraw_amount(1500)\n",
    "ca.credit_amount(2000)\n",
    "ca.show_balance()\n",
    "                \n",
    "sa = SavingAccount(\"Sneha Patil\", 8000) \n",
    "sa.show_balance()\n",
    "sa.withdrawn_amount(3000)\n",
    "sa.credit_amount(1000)\n",
    "sa.show_balance()              "
   ]
  },
  {
   "cell_type": "code",
   "execution_count": 3,
   "id": "393fe333",
   "metadata": {},
   "outputs": [
    {
     "name": "stdout",
     "output_type": "stream",
     "text": [
      " Student : Rushikesh Patil, ID: S101, Course: Data Analysis, Duration: 1 year, Experience: Beginner\n",
      " Student : Swapnil Patil, ID: S101, Course: Data Analysis, Duration: 1 year, Experience: Beginner\n",
      "Trainer: Rajesh Sharma, ID: T201, Course: AI Fundamentals, Duration: 6 months, Experience: 5 years\n",
      "Trainer: Meena Joshi, ID: T202, Course: Data Visualization, Duration: 4 months, Experience: 3 years\n"
     ]
    }
   ],
   "source": [
    "'''\n",
    "class ITV:\n",
    "    constructor:\n",
    "    name\n",
    "    student_id\n",
    "    course\n",
    "    duration\n",
    "    experience\n",
    "\n",
    "class student(ITV)\n",
    "    details\n",
    "class Trainer(ITV)\n",
    "\n",
    "Define :\n",
    "\n",
    "       2 students object \n",
    "       2 tariner object\n",
    "    \n",
    "\n",
    "'''\n",
    "class ITV:\n",
    "    def __init__(self,name,student_id, cousre, duration, experience):\n",
    "        self.name = name\n",
    "        self.student_id = student_id\n",
    "        self.course = cousre\n",
    "        self.duration = duration\n",
    "        self.experience = experience\n",
    "    # Deived class Student:\n",
    "class Student(ITV):\n",
    "    def details(self):\n",
    "        return  f\" Student : {self.name}, ID: {self.student_id}, Course: {self.course}, Duration: {self.duration}, Experience: {self.experience}\"\n",
    "    # Derived class Trainer\n",
    "class Trainer(ITV):\n",
    "    def details(self):\n",
    "        return f\"Trainer: {self.name}, ID: {self.student_id}, Course: {self.course}, Duration: {self.duration}, Experience: {self.experience}\"\n",
    "\n",
    "# Creating 2 student objects\n",
    "\n",
    "student1 = Student(\"Rushikesh Patil\", \"S101\", \"Data Analysis\", \"1 year\", \"Beginner\")\n",
    "student2 = Student(\"Swapnil Patil\", \"S101\", \"Data Analysis\", \"1 year\", \"Beginner\")\n",
    "\n",
    "# Creating 2 Trainer Objects\n",
    "trainer1 = Trainer(\"Rajesh Sharma\", \"T201\", \"AI Fundamentals\", \"6 months\", \"5 years\")\n",
    "trainer2 = Trainer(\"Meena Joshi\", \"T202\", \"Data Visualization\", \"4 months\", \"3 years\")\n",
    "\n",
    "print(student1.details())\n",
    "print(student2.details())\n",
    "print(trainer1.details())\n",
    "print(trainer2.details())"
   ]
  },
  {
   "cell_type": "code",
   "execution_count": 2,
   "id": "20e7023a",
   "metadata": {},
   "outputs": [
    {
     "name": "stdout",
     "output_type": "stream",
     "text": [
      "['roll over', 'play dead']\n"
     ]
    }
   ],
   "source": [
    "class Dog:\n",
    "    tricks = []      # ❌ class variable (shared by all objects)\n",
    "    \n",
    "    def __init__(self, name):\n",
    "        self.name = name\n",
    "\n",
    "    def add_trick(self, trick):\n",
    "        self.tricks.append(trick)\n",
    "    \n",
    "d = Dog('Fido')\n",
    "e = Dog('Buddy')\n",
    "d.add_trick('roll over')\n",
    "e.add_trick('play dead')\n",
    "print(d.tricks)\n"
   ]
  },
  {
   "cell_type": "code",
   "execution_count": 9,
   "id": "30ce5067",
   "metadata": {},
   "outputs": [
    {
     "name": "stdout",
     "output_type": "stream",
     "text": [
      "['roll over']\n",
      "['play dead']\n"
     ]
    }
   ],
   "source": [
    "class Dog:\n",
    "    \n",
    "    def __init__(self,name):\n",
    "        self.name = name\n",
    "        self.tricks = []\n",
    "    \n",
    "    def add_trick(self, trick):\n",
    "        self.tricks.append(trick)\n",
    "        \n",
    "    d = Dog('Fido')\n",
    "    e = Dog('Buddy')\n",
    "    d.add_trick('roll over')\n",
    "    e.add_trick('play dead')\n",
    "    print(d.tricks)\n",
    "    print(e.tricks)  "
   ]
  },
  {
   "cell_type": "code",
   "execution_count": 10,
   "id": "93b3b3dc",
   "metadata": {},
   "outputs": [
    {
     "name": "stdout",
     "output_type": "stream",
     "text": [
      "[0, 1, 4, 9, 16, 25, 36, 49, 64, 81]\n"
     ]
    }
   ],
   "source": [
    "# list Comprehension\n",
    "\n",
    "lst = []\n",
    "\n",
    "for i in range(10):\n",
    "   lst.append(i*i)\n",
    "print(lst)"
   ]
  },
  {
   "cell_type": "code",
   "execution_count": 11,
   "id": "73c2baf0",
   "metadata": {},
   "outputs": [
    {
     "name": "stdout",
     "output_type": "stream",
     "text": [
      "[0, 1, 4, 9, 16, 25, 36, 49, 64, 81]\n"
     ]
    }
   ],
   "source": [
    "'''logic: [<Expression> for interator(i) in range(10)]\n",
    "\n",
    "'''\n",
    "\n",
    "print([i*i for i in range(10)])"
   ]
  },
  {
   "cell_type": "code",
   "execution_count": 20,
   "id": "5dfd0a2d",
   "metadata": {},
   "outputs": [
    {
     "name": "stdout",
     "output_type": "stream",
     "text": [
      "[0, 2, 4, 6, 8, 10]\n"
     ]
    }
   ],
   "source": [
    "# [0,2,4,6,8,10,.....]\n",
    "\n",
    "lst = []\n",
    "\n",
    "for i in range(12):\n",
    "    if i%2 ==0:\n",
    "      lst.append(i)\n",
    "print(lst)"
   ]
  },
  {
   "cell_type": "code",
   "execution_count": 21,
   "id": "f035b91a",
   "metadata": {},
   "outputs": [
    {
     "data": {
      "text/plain": [
       "[0, 2, 4, 6, 8, 10]"
      ]
     },
     "execution_count": 21,
     "metadata": {},
     "output_type": "execute_result"
    }
   ],
   "source": [
    "#  example of list Comprehension\n",
    "\n",
    "# syntax: [<expression> for i in range(12) <condition>]\n",
    "\n",
    "[i for i in range (12) if i%2 ==0]"
   ]
  },
  {
   "cell_type": "code",
   "execution_count": null,
   "id": "32455f63",
   "metadata": {},
   "outputs": [
    {
     "name": "stdout",
     "output_type": "stream",
     "text": [
      "Hello from Parent!\n"
     ]
    }
   ],
   "source": [
    "# Baic Inheritance\n",
    "\n",
    "class parent:\n",
    "    def greet(self):\n",
    "        print(\"Hello from Parent!\")\n",
    "class Child(parent):\n",
    "    pass\n",
    "c = Child()\n",
    "c.greet()"
   ]
  },
  {
   "cell_type": "code",
   "execution_count": null,
   "id": "ef578099",
   "metadata": {},
   "outputs": [
    {
     "name": "stdout",
     "output_type": "stream",
     "text": [
      "Meow\n"
     ]
    }
   ],
   "source": [
    "# Method Overriding\n",
    "class Animal:\n",
    "    def sound(self):\n",
    "        print(\"Animal sound\")\n",
    "class Cat(Animal):\n",
    "    def sound(self):\n",
    "        print(\"Meow\")\n",
    "c = Cat()\n",
    "c.sound()"
   ]
  },
  {
   "cell_type": "code",
   "execution_count": null,
   "id": "8d2ab3ea",
   "metadata": {},
   "outputs": [
    {
     "name": "stdout",
     "output_type": "stream",
     "text": [
      "Hello!\n",
      "Welcome to class!\n"
     ]
    }
   ],
   "source": [
    "# using super() to call Parent Method\n",
    "class Person:\n",
    "    def greet(self):\n",
    "        print(\"Hello!\")\n",
    "class Student(Person):\n",
    "    def greet(self):\n",
    "        super().greet()\n",
    "        print(\"Welcome to class!\")\n",
    "s = Student()\n",
    "s.greet()"
   ]
  },
  {
   "cell_type": "code",
   "execution_count": null,
   "id": "28b550fa",
   "metadata": {},
   "outputs": [
    {
     "name": "stdout",
     "output_type": "stream",
     "text": [
      "Toyota Camry\n"
     ]
    }
   ],
   "source": [
    "# Constructor Inheritance with super()\n",
    "class Vehicle:\n",
    "    def __init__(self,brand):\n",
    "        self.brand = brand\n",
    "class Car(Vehicle):\n",
    "    def __init__(self, brand, model):\n",
    "        super() . __init__(brand)\n",
    "        self.model = model\n",
    "c = Car(\"Toyota\", \"Camry\")\n",
    "print(c.brand, c.model)"
   ]
  },
  {
   "cell_type": "code",
   "execution_count": null,
   "id": "48bb5239",
   "metadata": {},
   "outputs": [
    {
     "name": "stdout",
     "output_type": "stream",
     "text": [
      "Gardening, Programming\n"
     ]
    }
   ],
   "source": [
    "# Multiple Inheritance\n",
    "class Father:\n",
    "    def skills(self):\n",
    "        print(\"Gardening, Programming\")\n",
    "class Mother:\n",
    "    def skills(self):\n",
    "        print(\"Cooking, Art\")\n",
    "class Child(Father, Mother):\n",
    "    pass \n",
    "c = Child()\n",
    "c.skills()\n",
    "    "
   ]
  },
  {
   "cell_type": "code",
   "execution_count": null,
   "id": "3a5571ec",
   "metadata": {},
   "outputs": [
    {
     "name": "stdout",
     "output_type": "stream",
     "text": [
      "Wisdom\n"
     ]
    }
   ],
   "source": [
    "# Multilevel Inheritance\n",
    "class Grandparent:\n",
    "    def legacy(self):\n",
    "        print(\"Wisdom\")\n",
    "class Parent(Grandparent):\n",
    "    pass\n",
    "class Child(Parent):\n",
    "    pass\n",
    "c = Child()\n",
    "c.legacy()"
   ]
  },
  {
   "cell_type": "code",
   "execution_count": null,
   "id": "c58122d8",
   "metadata": {},
   "outputs": [
    {
     "name": "stdout",
     "output_type": "stream",
     "text": [
      "Moves\n",
      "Moves\n",
      "Files\n"
     ]
    }
   ],
   "source": [
    "# Hierarchical Inheritance\n",
    "class Animal:\n",
    "    def move(self):\n",
    "        print(\"Moves\")\n",
    "\n",
    "class Dog(Animal):\n",
    "    pass\n",
    "class Bird(Animal):\n",
    "    def fly(self):\n",
    "        print(\"Files\")\n",
    "\n",
    "d = Dog()\n",
    "b = Bird()\n",
    "d.move()\n",
    "b.move()\n",
    "b.fly()"
   ]
  },
  {
   "cell_type": "code",
   "execution_count": 5,
   "id": "d98eeebf",
   "metadata": {},
   "outputs": [
    {
     "name": "stdout",
     "output_type": "stream",
     "text": [
      "<class '__main__.Employee'>\n"
     ]
    }
   ],
   "source": [
    "#object oriented programming\n",
    "\n",
    "class Employee:   # class Definition \n",
    "    pass\n",
    "\n",
    "emp1 = Employee()    # Object Definition\n",
    "emp2 = Employee()    # Object Definition\n",
    "\n",
    "print(type(emp1))"
   ]
  },
  {
   "cell_type": "code",
   "execution_count": 8,
   "id": "dd826f3b",
   "metadata": {},
   "outputs": [
    {
     "name": "stdout",
     "output_type": "stream",
     "text": [
      "Bharat Education\n",
      "2017\n",
      "Rushikesh\n",
      "Owner\n",
      "19\n",
      "priya\n",
      "24\n",
      "Admin\n"
     ]
    }
   ],
   "source": [
    "class Employee:  # class definition\n",
    "    # define Attributes : # class Variables\n",
    "    Company_Name = \"Bharat Education\"\n",
    "    Company_Est = \"2017\"\n",
    "    \n",
    "    \n",
    "    #Define Constructor: Special Method\n",
    "    def __init__(self,Name,Age,Position):\n",
    "        self.Name = Name   # Instance Variables\n",
    "        self.Age = Age\n",
    "        self.Position = Position\n",
    "emp1 = Employee(\"Rushikesh\",19,\"Owner\")    # Object Definition\n",
    "emp2 = Employee(\"priya\",24,\"Admin\")\n",
    "\n",
    "print(emp1.Company_Name) # Calling attributes Company_Name by an Object emp1 by using .Operator\n",
    "print(emp2.Company_Est)\n",
    "print(emp1.Name)\n",
    "print(emp1.Position)\n",
    "print(emp1.Age)\n",
    "print(emp2.Name)\n",
    "print(emp2.Age)\n",
    "print(emp2.Position)"
   ]
  },
  {
   "cell_type": "code",
   "execution_count": 21,
   "id": "4b454d75",
   "metadata": {},
   "outputs": [
    {
     "name": "stdout",
     "output_type": "stream",
     "text": [
      "name : Sangam\n",
      "name : Sakshi\n",
      "Age:30\n",
      "Age:29\n",
      "position : It\n",
      "position : Manager\n"
     ]
    }
   ],
   "source": [
    "class Employee:   # Class Definition\n",
    "    # Define Attributes : # Class Variables\n",
    "    Company_Name = \"It Vedant\"\n",
    "    Company_Est = \"1900\"\n",
    "    \n",
    "    # Define Instance Method : With Instance Variables\n",
    "    def __init__(self,name,age,position): \n",
    "        self.name = name       # Instance Variable1\n",
    "        self.age = age         # Instance Variable2\n",
    "        self.position = position   # Instance Variable3\n",
    "        \n",
    "    # Define Class Method : With Class Variables\n",
    "    def details(self):\n",
    "        print(f'name : {self.name}')\n",
    "    def age1(self):\n",
    "        print(f'Age:{self.age}')\n",
    "    def position1(self):\n",
    "        print(f'position : {self.position}')     \n",
    "# Create Two Objects: employee and manager\n",
    "employee = Employee(\"Sangam\",30,\"It\")\n",
    "manager = Employee(\"Sakshi\",29,\"Manager\")\n",
    "    \n",
    "employee.details()\n",
    "manager.details()\n",
    "employee.age1()\n",
    "manager.age1()\n",
    "employee.position1()\n",
    "manager.position1()"
   ]
  },
  {
   "cell_type": "code",
   "execution_count": null,
   "id": "daa56f8b",
   "metadata": {},
   "outputs": [],
   "source": [
    "# Concept of Inheritance\n",
    "'''\n",
    "Parent class : Employee\n",
    "Attributes: name,age,position\n",
    "Constructor:\n",
    "Class Function: details'\n",
    "\n",
    "Child class : Manager\n",
    "Attributes: Name, age, position\n",
    "Constructor:\n",
    "Class Function: details\n",
    "\n",
    "'''\n",
    "class Emploethoyee:    # Parent Class\n",
    "    #Define Special Function: Constructor\n",
    "    def __init__(self,name,age,position):\n",
    "        # Define Instance Variables:\n",
    "        self.ame = name\n",
    "        self.age = age\n",
    "        self.position = position\n",
    "    # Define Class Method : details\n",
    "    def details(self):\n",
    "        print(f'name :{self.name}')\n",
    "class Manager(Employee):  # Child class\n",
    "    #define special Function: Constructor\n",
    "    def __init__(self,name,age,position,department):\n",
    "        super().__init__(name,age,position)  # calling instance using super()\n",
    "        self.department = department\n",
    "    # Define Class m"
   ]
  },
  {
   "cell_type": "code",
   "execution_count": 23,
   "id": "4cd85083",
   "metadata": {},
   "outputs": [
    {
     "name": "stdout",
     "output_type": "stream",
     "text": [
      "6\n",
      "5\n",
      "5.0\n",
      "5.0\n",
      "625.0\n",
      "120\n",
      "1.0\n",
      "30.0\n",
      "1.4771212547196624\n"
     ]
    }
   ],
   "source": [
    "# in built Modules in Python Programming \n",
    "\n",
    "import math\n",
    "\n",
    "a = math.ceil(5.5)\n",
    "print(a)\n",
    "\n",
    "a = math.floor(5.5)\n",
    "print(a)\n",
    "\n",
    "a = math. sqrt(25)      # this will return the answer in float\n",
    "print(a)\n",
    "\n",
    "a = 25**0.5    # ** : exponent operator\n",
    "print(a)\n",
    "\n",
    "a = math.pow(25,2)   # pow(x,y) : will return the square a value\n",
    "print(a)\n",
    "\n",
    "a = math.factorial(5)\n",
    "print(a)\n",
    " \n",
    "a = math.cos(0)        # cos(0) =1 \n",
    "print(a)\n",
    "\n",
    "\n",
    "a = math.fabs(-30)   # mod(-30) = 30\n",
    "print(a)\n",
    "\n",
    "a = math.log10(30)\n",
    "print(a)"
   ]
  }
 ],
 "metadata": {
  "kernelspec": {
   "display_name": "Python 3",
   "language": "python",
   "name": "python3"
  },
  "language_info": {
   "codemirror_mode": {
    "name": "ipython",
    "version": 3
   },
   "file_extension": ".py",
   "mimetype": "text/x-python",
   "name": "python",
   "nbconvert_exporter": "python",
   "pygments_lexer": "ipython3",
   "version": "3.13.7"
  }
 },
 "nbformat": 4,
 "nbformat_minor": 5
}
